{
 "cells": [
  {
   "cell_type": "markdown",
   "metadata": {
    "toc": true
   },
   "source": [
    "<h1>Table of Contents<span class=\"tocSkip\"></span></h1>\n",
    "<div class=\"toc\"><ul class=\"toc-item\"><li><span><a href=\"#Before-your-start:\" data-toc-modified-id=\"Before-your-start:-1\"><span class=\"toc-item-num\">1&nbsp;&nbsp;</span>Before your start:</a></span></li><li><span><a href=\"#Challenge-1---Explore-The-Dataset\" data-toc-modified-id=\"Challenge-1---Explore-The-Dataset-2\"><span class=\"toc-item-num\">2&nbsp;&nbsp;</span>Challenge 1 - Explore The Dataset</a></span><ul class=\"toc-item\"><li><ul class=\"toc-item\"><li><ul class=\"toc-item\"><li><span><a href=\"#Explore-the-data-from-an-bird's-eye-view.\" data-toc-modified-id=\"Explore-the-data-from-an-bird's-eye-view.-2.0.0.1\"><span class=\"toc-item-num\">2.0.0.1&nbsp;&nbsp;</span>Explore the data from an bird's-eye view.</a></span></li><li><span><a href=\"#Next,-evaluate-if-the-columns-in-this-dataset-are-strongly-correlated.\" data-toc-modified-id=\"Next,-evaluate-if-the-columns-in-this-dataset-are-strongly-correlated.-2.0.0.2\"><span class=\"toc-item-num\">2.0.0.2&nbsp;&nbsp;</span>Next, evaluate if the columns in this dataset are strongly correlated.</a></span></li></ul></li></ul></li></ul></li><li><span><a href=\"#Challenge-2---Remove-Column-Collinearity.\" data-toc-modified-id=\"Challenge-2---Remove-Column-Collinearity.-3\"><span class=\"toc-item-num\">3&nbsp;&nbsp;</span>Challenge 2 - Remove Column Collinearity.</a></span></li><li><span><a href=\"#Challenge-3---Handle-Missing-Values\" data-toc-modified-id=\"Challenge-3---Handle-Missing-Values-4\"><span class=\"toc-item-num\">4&nbsp;&nbsp;</span>Challenge 3 - Handle Missing Values</a></span><ul class=\"toc-item\"><li><ul class=\"toc-item\"><li><ul class=\"toc-item\"><li><span><a href=\"#In-the-cells-below,-handle-the-missing-values-from-the-dataset.-Remember-to-comment-the-rationale-of-your-decisions.\" data-toc-modified-id=\"In-the-cells-below,-handle-the-missing-values-from-the-dataset.-Remember-to-comment-the-rationale-of-your-decisions.-4.0.0.1\"><span class=\"toc-item-num\">4.0.0.1&nbsp;&nbsp;</span>In the cells below, handle the missing values from the dataset. Remember to comment the rationale of your decisions.</a></span></li><li><span><a href=\"#Again,-examine-the-number-of-missing-values-in-each-column.\" data-toc-modified-id=\"Again,-examine-the-number-of-missing-values-in-each-column.-4.0.0.2\"><span class=\"toc-item-num\">4.0.0.2&nbsp;&nbsp;</span>Again, examine the number of missing values in each column.</a></span></li></ul></li></ul></li></ul></li><li><span><a href=\"#Challenge-4---Handle-WHOIS_*-Categorical-Data\" data-toc-modified-id=\"Challenge-4---Handle-WHOIS_*-Categorical-Data-5\"><span class=\"toc-item-num\">5&nbsp;&nbsp;</span>Challenge 4 - Handle <code>WHOIS_*</code> Categorical Data</a></span><ul class=\"toc-item\"><li><ul class=\"toc-item\"><li><ul class=\"toc-item\"><li><span><a href=\"#In-the-cells-below,-fix-the-country-values-as-intructed-above.\" data-toc-modified-id=\"In-the-cells-below,-fix-the-country-values-as-intructed-above.-5.0.0.1\"><span class=\"toc-item-num\">5.0.0.1&nbsp;&nbsp;</span>In the cells below, fix the country values as intructed above.</a></span></li><li><span><a href=\"#If-a-limited-number-of-values-account-for-the-majority-of-data,-we-can-retain-these-top-values-and-re-label-all-other-rare-values.\" data-toc-modified-id=\"If-a-limited-number-of-values-account-for-the-majority-of-data,-we-can-retain-these-top-values-and-re-label-all-other-rare-values.-5.0.0.2\"><span class=\"toc-item-num\">5.0.0.2&nbsp;&nbsp;</span>If a limited number of values account for the majority of data, we can retain these top values and re-label all other rare values.</a></span></li><li><span><a href=\"#After-verifying,-now-let's-keep-the-top-10-values-of-the-column-and-re-label-other-columns-with-OTHER.\" data-toc-modified-id=\"After-verifying,-now-let's-keep-the-top-10-values-of-the-column-and-re-label-other-columns-with-OTHER.-5.0.0.3\"><span class=\"toc-item-num\">5.0.0.3&nbsp;&nbsp;</span>After verifying, now let's keep the top 10 values of the column and re-label other columns with <code>OTHER</code>.</a></span></li><li><span><a href=\"#In-the-next-cell,-drop-['WHOIS_STATEPRO',-'WHOIS_REGDATE',-'WHOIS_UPDATED_DATE'].\" data-toc-modified-id=\"In-the-next-cell,-drop-['WHOIS_STATEPRO',-'WHOIS_REGDATE',-'WHOIS_UPDATED_DATE'].-5.0.0.4\"><span class=\"toc-item-num\">5.0.0.4&nbsp;&nbsp;</span>In the next cell, drop <code>['WHOIS_STATEPRO', 'WHOIS_REGDATE', 'WHOIS_UPDATED_DATE']</code>.</a></span></li></ul></li></ul></li></ul></li><li><span><a href=\"#Challenge-5---Handle-Remaining-Categorical-Data-&amp;-Convert-to-Ordinal\" data-toc-modified-id=\"Challenge-5---Handle-Remaining-Categorical-Data-&amp;-Convert-to-Ordinal-6\"><span class=\"toc-item-num\">6&nbsp;&nbsp;</span>Challenge 5 - Handle Remaining Categorical Data &amp; Convert to Ordinal</a></span><ul class=\"toc-item\"><li><ul class=\"toc-item\"><li><ul class=\"toc-item\"><li><span><a href=\"#URL-is-easy.-We'll-simply-drop-it-because-it-has-too-many-unique-values-that-there's-no-way-for-us-to-consolidate.\" data-toc-modified-id=\"URL-is-easy.-We'll-simply-drop-it-because-it-has-too-many-unique-values-that-there's-no-way-for-us-to-consolidate.-6.0.0.1\"><span class=\"toc-item-num\">6.0.0.1&nbsp;&nbsp;</span><code>URL</code> is easy. We'll simply drop it because it has too many unique values that there's no way for us to consolidate.</a></span></li><li><span><a href=\"#Print-the-unique-value-counts-of-CHARSET.-You-see-there-are-only-a-few-unique-values.-So-we-can-keep-it-as-it-is.\" data-toc-modified-id=\"Print-the-unique-value-counts-of-CHARSET.-You-see-there-are-only-a-few-unique-values.-So-we-can-keep-it-as-it-is.-6.0.0.2\"><span class=\"toc-item-num\">6.0.0.2&nbsp;&nbsp;</span>Print the unique value counts of <code>CHARSET</code>. You see there are only a few unique values. So we can keep it as it is.</a></span></li><li><span><a href=\"#Before-you-think-of-your-own-solution,-don't-read-the-instructions-that-come-next.\" data-toc-modified-id=\"Before-you-think-of-your-own-solution,-don't-read-the-instructions-that-come-next.-6.0.0.3\"><span class=\"toc-item-num\">6.0.0.3&nbsp;&nbsp;</span>Before you think of your own solution, don't read the instructions that come next.</a></span></li></ul></li></ul></li></ul></li><li><span><a href=\"#Challenge-6---Modeling,-Prediction,-and-Evaluation\" data-toc-modified-id=\"Challenge-6---Modeling,-Prediction,-and-Evaluation-7\"><span class=\"toc-item-num\">7&nbsp;&nbsp;</span>Challenge 6 - Modeling, Prediction, and Evaluation</a></span><ul class=\"toc-item\"><li><ul class=\"toc-item\"><li><ul class=\"toc-item\"><li><span><a href=\"#In-this-lab,-we-will-try-two-different-models-and-compare-our-results.\" data-toc-modified-id=\"In-this-lab,-we-will-try-two-different-models-and-compare-our-results.-7.0.0.1\"><span class=\"toc-item-num\">7.0.0.1&nbsp;&nbsp;</span>In this lab, we will try two different models and compare our results.</a></span></li><li><span><a href=\"#Our-second-algorithm-is-is-DecisionTreeClassifier\" data-toc-modified-id=\"Our-second-algorithm-is-is-DecisionTreeClassifier-7.0.0.2\"><span class=\"toc-item-num\">7.0.0.2&nbsp;&nbsp;</span>Our second algorithm is is DecisionTreeClassifier</a></span></li><li><span><a href=\"#We'll-create-another-DecisionTreeClassifier-model-with-max_depth=5.\" data-toc-modified-id=\"We'll-create-another-DecisionTreeClassifier-model-with-max_depth=5.-7.0.0.3\"><span class=\"toc-item-num\">7.0.0.3&nbsp;&nbsp;</span>We'll create another DecisionTreeClassifier model with max_depth=5.</a></span></li></ul></li></ul></li></ul></li><li><span><a href=\"#Bonus-Challenge---Feature-Scaling\" data-toc-modified-id=\"Bonus-Challenge---Feature-Scaling-8\"><span class=\"toc-item-num\">8&nbsp;&nbsp;</span>Bonus Challenge - Feature Scaling</a></span></li></ul></div>"
   ]
  },
  {
   "cell_type": "markdown",
   "metadata": {},
   "source": [
    "# Before your start:\n",
    "- Read the README.md file\n",
    "- Comment as much as you can and use the resources in the README.md file\n",
    "- Happy learning!"
   ]
  },
  {
   "cell_type": "code",
   "execution_count": 1,
   "metadata": {},
   "outputs": [],
   "source": [
    "# Import your libraries:\n",
    "\n",
    "%matplotlib inline\n",
    "\n",
    "import numpy as np\n",
    "import pandas as pd"
   ]
  },
  {
   "cell_type": "markdown",
   "metadata": {},
   "source": [
    "In this lab, we will explore a dataset that describes websites with different features and labels them either benign or malicious . We will use supervised learning algorithms to figure out what feature patterns malicious websites are likely to have and use our model to predict malicious websites.\n",
    "\n",
    "Your features will be:\n",
    "\n",
    "+ URL: it is the anonymous identification of the URL analyzed in the study\n",
    "+ URL_LENGTH: it is the number of characters in the URL\n",
    "+ NUMBER_SPECIAL_CHARACTERS: it is number of special characters identified in the URL, such as, “/”, “%”, “#”, “&”, “. “, “=”\n",
    "+ CHARSET: it is a categorical value and its meaning is the character encoding standard (also called character set).\n",
    "+ SERVER: it is a categorical value and its meaning is the operative system of the server got from the packet response.\n",
    "+ CONTENT_LENGTH: it represents the content size of the HTTP header.\n",
    "+ WHOIS_COUNTRY: it is a categorical variable, its values are the countries we got from the server response (specifically, our script used the API of Whois).\n",
    "+ WHOIS_STATEPRO: it is a categorical variable, its values are the states we got from the server response (specifically, our script used the API of Whois).\n",
    "+ WHOIS_REGDATE: Whois provides the server registration date, so, this variable has date values with format DD/MM/YYY HH:MM\n",
    "+ WHOIS_UPDATED_DATE: Through the Whois we got the last update date from the server analyzed\n",
    "+ TCP_CONVERSATION_EXCHANGE: This variable is the number of TCP packets exchanged between the server and our honeypot client\n",
    "+ DIST_REMOTE_TCP_PORT: it is the number of the ports detected and different to TCP\n",
    "+ REMOTE_IPS: this variable has the total number of IPs connected to the honeypot\n",
    "+ APP_BYTES: this is the number of bytes transfered\n",
    "+ SOURCE_APP_PACKETS: packets sent from the honeypot to the server\n",
    "+ REMOTE_APP_PACKETS: packets received from the server\n",
    "+ APP_PACKETS: this is the total number of IP packets generated during the communication between the honeypot and the server\n",
    "+ DNS_QUERY_TIMES: this is the number of DNS packets generated during the communication between the honeypot and the server\n",
    "+ TYPE: this is a categorical variable, its values represent the type of web page analyzed, specifically, 1 is for malicious websites and 0 is for benign websites\n",
    "\n",
    "# Challenge 1 - Explore The Dataset\n",
    "\n",
    "Let's start by exploring the dataset. First load the data file:\n",
    "\n",
    "\n",
    "*Source: [kaggle](https://www.kaggle.com/viratkothari/malicious-and-benign-websites-classification)*"
   ]
  },
  {
   "cell_type": "code",
   "execution_count": 2,
   "metadata": {},
   "outputs": [],
   "source": [
    "websites = pd.read_csv('../website.csv')"
   ]
  },
  {
   "cell_type": "markdown",
   "metadata": {},
   "source": [
    "#### Explore the data from an bird's-eye view.\n",
    "\n",
    "You should already been very familiar with the procedures now so we won't provide the instructions step by step. Reflect on what you did in the previous labs and explore the dataset.\n",
    "\n",
    "Things you'll be looking for:\n",
    "\n",
    "* What the dataset looks like?\n",
    "* What are the data types?\n",
    "* Which columns contain the features of the websites?\n",
    "* Which column contains the feature we will predict? What is the code standing for benign vs malicious websites?\n",
    "* Do we need to transform any of the columns from categorical to ordinal values? If so what are these columns?\n",
    "\n",
    "Feel free to add additional cells for your explorations. Make sure to comment what you find out."
   ]
  },
  {
   "cell_type": "code",
   "execution_count": null,
   "metadata": {},
   "outputs": [],
   "source": [
    "# What the dataset looks like?\n",
    "\n",
    "# Import the tabulate module\n",
    "from tabulate import tabulate\n",
    "\n",
    "describe_output = websites.describe()\n",
    "print(tabulate(describe_output, headers=\"keys\", tablefmt=\"grid\"))\n",
    "\n",
    "print(\"Dataset Info:\")\n",
    "print(websites.info())\n",
    "print(websites.isnull().sum())\n"
   ]
  },
  {
   "cell_type": "code",
   "execution_count": null,
   "metadata": {},
   "outputs": [],
   "source": [
    "print(websites.isnull().sum())"
   ]
  },
  {
   "cell_type": "code",
   "execution_count": null,
   "metadata": {},
   "outputs": [],
   "source": [
    "# What are the data types?\n",
    "from icecream import ic\n",
    "\n",
    "categorical_var = (\"URL\", \"CHARSET\", \"SERVER\", \"WHOIS_COUNTRY\", \"WHOIS_STATEPRO\")\n",
    "\n",
    "target_var = \"Type\"\n",
    "\n",
    "numerical_var = (\"URL_LENGTH\", \"NUMBER_SPECIAL_CHARACTERS\", \"CONTENT_LENGTH\", \"TCP_CONVERSATION_EXCHANGE\",\n",
    " \"DIST_REMOTE_TCP_PORT\", \"REMOTE_IPS\", \"APP_BYTES\", \"SOURCE_APP_PACKETS\",\n",
    " \"REMOTE_APP_PACKETS\", \"APP_PACKETS\", \"DNS_QUERY_TIMES\")\n",
    "\n",
    "date_time_var = (\"WHOIS_REGDATE\", \"WHOIS_UPDATED_DATE\")\n",
    "\n",
    "\n",
    "# ic(websites.dtypes)\n",
    "print(websites.dtypes)"
   ]
  },
  {
   "cell_type": "code",
   "execution_count": 6,
   "metadata": {},
   "outputs": [],
   "source": [
    "# Which columns contain the features of the websites?\n",
    "\n",
    "# URL\n",
    "# URL_LENGTH\n",
    "# NUMBER_SPECIAL_CHARACTERS\n",
    "# CHARSET\n",
    "# SERVER\n",
    "# CONTENT_LENGTH\n",
    "# WHOIS_COUNTRY\n",
    "# WHOIS_STATEPRO\n",
    "# WHOIS_REGDATE\n",
    "# WHOIS_UPDATED_DATE\n",
    "# TCP_CONVERSATION_EXCHANGE\n",
    "# DIST_REMOTE_TCP_PORT\n",
    "# REMOTE_IPS\n",
    "# APP_BYTES\n",
    "# SOURCE_APP_PACKETS\n",
    "# REMOTE_APP_PACKETS\n",
    "# APP_PACKETS\n",
    "# DNS_QUERY_TIMES\n",
    "\n",
    "\n",
    "\n",
    "website_features = (\n",
    "    \"URL\", \"URL_LENGTH\", \"NUMBER_SPECIAL_CHARACTERS\", \"CHARSET\", \"SERVER\",\n",
    "    \"CONTENT_LENGTH\", \"WHOIS_COUNTRY\", \"WHOIS_STATEPRO\", \"WHOIS_REGDATE\",\n",
    "    \"WHOIS_UPDATED_DATE\", \"TCP_CONVERSATION_EXCHANGE\", \"DIST_REMOTE_TCP_PORT\",\n",
    "    \"REMOTE_IPS\", \"APP_BYTES\", \"SOURCE_APP_PACKETS\", \"REMOTE_APP_PACKETS\",\n",
    "    \"APP_PACKETS\", \"DNS_QUERY_TIMES\"\n",
    ")\n"
   ]
  },
  {
   "cell_type": "code",
   "execution_count": null,
   "metadata": {},
   "outputs": [],
   "source": [
    "# Calculate the percentage of missing data\n",
    "missing_percentage = websites.isna().sum() / len(websites) * 100\n",
    "print(missing_percentage.round(2))\n"
   ]
  },
  {
   "cell_type": "code",
   "execution_count": null,
   "metadata": {},
   "outputs": [],
   "source": [
    "# Which column contains the feature we will predict? What is the code standing for benign vs malicious websites?\n",
    "\n",
    "# 'Type' column is the target variable that indicates whether a website is benign or malicious\n",
    "\n",
    "print(websites[\"Type\"])\n"
   ]
  },
  {
   "cell_type": "code",
   "execution_count": 9,
   "metadata": {},
   "outputs": [],
   "source": [
    "# 0 for bening 1 for maliciuos websites"
   ]
  },
  {
   "cell_type": "code",
   "execution_count": 10,
   "metadata": {},
   "outputs": [],
   "source": [
    "# Do we need to transform any of the columns from categorical to ordinal values? If so what are these columns?\n",
    "\n",
    "# the need to transform depends on the model. If we are using linear models then:\n",
    "\n",
    "# CHARSET, SERVER, WHOIS_COUNTRY, WHOIS_STATEPRO \n",
    "\n",
    "# would need transformation."
   ]
  },
  {
   "cell_type": "markdown",
   "metadata": {},
   "source": [
    "#### Next, evaluate if the columns in this dataset are strongly correlated.\n",
    "\n",
    "In the Mushroom supervised learning lab we did recently, we mentioned we are concerned if our dataset has strongly correlated columns because if it is the case we need to choose certain ML algorithms instead of others. We need to evaluate this for our dataset now.\n",
    "\n",
    "Luckily, most of the columns in this dataset are ordinal which makes things a lot easier for us. In the next cells below, evaluate the level of collinearity of the data.\n",
    "\n",
    "We provide some general directions for you to consult in order to complete this step:\n",
    "\n",
    "1. You will create a correlation matrix using the numeric columns in the dataset.\n",
    "\n",
    "1. Create a heatmap using `seaborn` to visualize which columns have high collinearity.\n",
    "\n",
    "1. Comment on which columns you might need to remove due to high collinearity."
   ]
  },
  {
   "cell_type": "code",
   "execution_count": null,
   "metadata": {},
   "outputs": [],
   "source": [
    "import pandas as pd\n",
    "import numpy as np\n",
    "import seaborn as sns\n",
    "import matplotlib.pyplot as plt\n",
    "\n",
    "# Make a copy of the DataFrame\n",
    "websites_copy = websites.copy()\n",
    "\n",
    "# Remove the categoricals\n",
    "websites_copy = websites_copy.drop(columns=list(categorical_var))\n",
    "\n",
    "# Step 1: Identify non-numeric columns\n",
    "non_numeric_columns = websites_copy.select_dtypes(exclude=[\"number\"]).columns\n",
    "print(\"Non-numeric columns:\", non_numeric_columns)\n",
    "\n",
    "# Parse dates into datetime format\n",
    "websites_copy['WHOIS_REGDATE'] = pd.to_datetime(websites_copy['WHOIS_REGDATE'], errors='coerce')\n",
    "websites_copy['WHOIS_UPDATED_DATE'] = pd.to_datetime(websites_copy['WHOIS_UPDATED_DATE'], errors='coerce')\n",
    "\n",
    "# Choose a reference date\n",
    "reference_date = pd.to_datetime(\"2025-01-01\")\n",
    "\n",
    "# Convert dates to numeric values (days since the reference date)\n",
    "websites_copy['WHOIS_REGDATE_NUM'] = (reference_date - websites_copy['WHOIS_REGDATE']).dt.days\n",
    "websites_copy['WHOIS_UPDATED_DATE_NUM'] = (reference_date - websites_copy['WHOIS_UPDATED_DATE']).dt.days\n",
    "\n",
    "\n",
    "correlation_matrix = websites_copy.corr()\n",
    "\n",
    "# Create a heatmap using seaborn to visualize collinearity\n",
    "plt.figure(figsize=(12, 10))\n",
    "sns.heatmap(correlation_matrix, annot=True, fmt=\".2f\", cmap=\"coolwarm\", cbar=True)\n",
    "plt.title(\"Heatmap of Feature Collinearity\")\n",
    "plt.xlabel(\"Features\")\n",
    "plt.ylabel(\"Features\")\n",
    "plt.show()\n",
    "\n"
   ]
  },
  {
   "cell_type": "code",
   "execution_count": 12,
   "metadata": {},
   "outputs": [],
   "source": [
    "# | **Highly Correlated Features**       | ** Column to Remove** | **Reason**                                    |\n",
    "# |---------------------------------------|---------------------------------|-----------------------------------------------|\n",
    "# | `APP_PACKETS` and `REMOTE_APP_PACKETS` | `APP_PACKETS`                  | Perfect correlation (1.00). Keep `REMOTE_APP_PACKETS`. |\n",
    "# | `APP_BYTES` and `REMOTE_APP_BYTES`    | `REMOTE_APP_BYTES`             | High correlation (~0.78). Keep `APP_BYTES`.  |\n",
    "# | `SOURCE_APP_PACKETS` and `APP_PACKETS` | `SOURCE_APP_PACKETS`           | High correlation (~0.99). Keep `APP_PACKETS`. |\n",
    "# | `SOURCE_APP_BYTES` and `REMOTE_APP_BYTES` | `SOURCE_APP_BYTES`             | High correlation (~0.87). Keep `REMOTE_APP_BYTES`. |"
   ]
  },
  {
   "cell_type": "markdown",
   "metadata": {},
   "source": [
    "### This is an example to know the feacture importance using a ML model"
   ]
  },
  {
   "cell_type": "code",
   "execution_count": 13,
   "metadata": {},
   "outputs": [],
   "source": [
    "#! pip install xgboost"
   ]
  },
  {
   "cell_type": "code",
   "execution_count": null,
   "metadata": {},
   "outputs": [],
   "source": [
    "from sklearn.model_selection import train_test_split\n",
    "from sklearn.metrics import accuracy_score, classification_report\n",
    "from xgboost import XGBClassifier\n",
    "\n",
    "# convert datetime columns to numeric\n",
    "reference_date = pd.to_datetime(\"2025-01-01\")\n",
    "websites_copy['WHOIS_REGDATE_NUM'] = (reference_date - websites_copy['WHOIS_REGDATE']).dt.days\n",
    "websites_copy['WHOIS_UPDATED_DATE_NUM'] = (reference_date - websites_copy['WHOIS_UPDATED_DATE']).dt.days\n",
    "\n",
    "# drop the original datetime columns\n",
    "websites_copy = websites_copy.drop(columns=['WHOIS_REGDATE', 'WHOIS_UPDATED_DATE'])\n",
    "\n",
    "# separate features (X) and target (y)\n",
    "X = websites_copy.drop(columns=['Type'])\n",
    "y = websites_copy['Type']  \n",
    "\n",
    "# Split the dataset into training and testing sets\n",
    "X_train, X_test, y_train, y_test = train_test_split(X, y, test_size=0.2, random_state=27)\n",
    "\n",
    "# Initialize the XGBoost classifier\n",
    "model = XGBClassifier(random_state=27)\n",
    "\n",
    "# Train the model\n",
    "model.fit(X_train, y_train)\n",
    "\n",
    "# Make predictions\n",
    "y_pred = model.predict(X_test)\n",
    "\n",
    "# Evaluate the model\n",
    "accuracy = accuracy_score(y_test, y_pred)\n",
    "print(f\"Accuracy: {accuracy:.2f}\")\n",
    "\n",
    "# Generate classification report\n",
    "report = classification_report(y_test, y_pred, output_dict=True)\n",
    "report_df = pd.DataFrame(report).transpose()\n",
    "\n",
    "# Display tabulated classification report\n",
    "print(\"\\nClassification Report:\")\n",
    "print(tabulate(report_df, headers=\"keys\", tablefmt=\"grid\", floatfmt=\".2f\"))\n",
    "\n"
   ]
  },
  {
   "cell_type": "code",
   "execution_count": 15,
   "metadata": {},
   "outputs": [],
   "source": [
    "# The model performed really well with an accuracy of 96%, meaning it classified most websites correctly. \n",
    "# It did better on benign websites (0) than malicious ones (1), with a recall of 99% for benign and 76% for malicious. \n",
    "# Overall, it handled the data well despite the imbalance between the two classes.\n"
   ]
  },
  {
   "cell_type": "code",
   "execution_count": 16,
   "metadata": {},
   "outputs": [],
   "source": [
    "# import xgboost as xgb\n",
    "\n",
    "# # This code seems to be wrong or out of date?\n",
    "# xgb.fit(X,y)"
   ]
  },
  {
   "cell_type": "code",
   "execution_count": null,
   "metadata": {},
   "outputs": [],
   "source": [
    "# sort_idx = xgb.feature_importances_.argsort()\n",
    "# feature names\n",
    "features = X_train.columns\n",
    "\n",
    "# get feature importance values\n",
    "importances = model.feature_importances_  \n",
    "\n",
    "# Sort feature importances from most to least important\n",
    "sorted_importances = sorted(zip(features, importances), key=lambda x: x[1], reverse=True)\n",
    "importance_df = pd.DataFrame(sorted_importances, columns=[\"Feature\", \"Importance\"])\n",
    "\n",
    "# Add a rank column (1 to N)\n",
    "importance_df[\"Rank\"] = range(1, len(importance_df) + 1)\n",
    "\n",
    "# Display feature importances using tabulate\n",
    "print(\"\\nFeature Importances (Sorted):\")\n",
    "print(tabulate(importance_df, headers=\"keys\", tablefmt=\"grid\", floatfmt=\".4f\"))"
   ]
  },
  {
   "cell_type": "code",
   "execution_count": null,
   "metadata": {
    "scrolled": true
   },
   "outputs": [],
   "source": [
    "# plt.barh(X.columns[sort_idx],xgb.feature_importances_[sort_idx])\n",
    "# plt.show();\n",
    "\n",
    "import matplotlib.pyplot as plt\n",
    "\n",
    "# Sort features by importance\n",
    "sort_idx = model.feature_importances_.argsort()\n",
    "\n",
    "# Create a horizontal bar plot for feature importances\n",
    "plt.figure(figsize=(10, 6))\n",
    "plt.barh(X.columns[sort_idx], model.feature_importances_[sort_idx])\n",
    "plt.xlabel(\"Feature Importance\")\n",
    "plt.ylabel(\"Feature Names\")\n",
    "plt.title(\"Feature Importances (XGBoost)\")\n",
    "plt.show()\n",
    "\n"
   ]
  },
  {
   "cell_type": "markdown",
   "metadata": {},
   "source": [
    "    In the previous plot we can see the feactures with lower weight in the dataset."
   ]
  },
  {
   "cell_type": "markdown",
   "metadata": {},
   "source": [
    "# Challenge 2 - Remove Column Collinearity.\n",
    "\n",
    "From the heatmap you created, you should have seen at least 3 columns that can be removed due to high collinearity. Remove these columns from the dataset.\n",
    "\n",
    "Note that you should remove as few columns as you can. You don't have to remove all the columns at once. But instead, try removing one column, then produce the heatmap again to determine if additional columns should be removed. As long as the dataset no longer contains columns that are correlated for over 90%, you can stop. Also, keep in mind when two columns have high collinearity, you only need to remove one of them but not both.\n",
    "\n",
    "In the cells below, remove as few columns as you can to eliminate the high collinearity in the dataset. Make sure to comment on your way so that the instructional team can learn about your thinking process which allows them to give feedback. At the end, print the heatmap again."
   ]
  },
  {
   "cell_type": "code",
   "execution_count": null,
   "metadata": {},
   "outputs": [],
   "source": [
    "# Columns to remove based on high collinearity\n",
    "columns_to_remove = ['APP_PACKETS']\n",
    "\n",
    "# Drop these columns from the DataFrame\n",
    "websites_copy = websites_copy.drop(columns=columns_to_remove)\n",
    "\n",
    "# Display the updated columns\n",
    "print(\"Remaining columns after removing high collinearity features:\")\n",
    "print(websites_copy.columns)\n"
   ]
  },
  {
   "cell_type": "code",
   "execution_count": null,
   "metadata": {},
   "outputs": [],
   "source": [
    "# Recompute the correlation matrix after dropping `APP_PACKETS`\n",
    "correlation_matrix = websites_copy.corr()\n",
    "\n",
    "# Create the heatmap\n",
    "plt.figure(figsize=(12, 10))\n",
    "sns.heatmap(correlation_matrix, annot=True, fmt=\".2f\", cmap=\"coolwarm\", cbar=True)\n",
    "plt.title(\"Heatmap of Feature Collinearity (After Removing APP_PACKETS)\")\n",
    "plt.xlabel(\"Features\")\n",
    "plt.ylabel(\"Features\")\n",
    "plt.show()"
   ]
  },
  {
   "cell_type": "code",
   "execution_count": null,
   "metadata": {},
   "outputs": [],
   "source": [
    "# Remove the next highly correlated column\n",
    "websites_copy = websites_copy.drop(columns=['SOURCE_APP_PACKETS'])\n",
    "\n",
    "# Recompute the correlation matrix after dropping `SOURCE_APP_PACKETS`\n",
    "correlation_matrix = websites_copy.corr()\n",
    "\n",
    "# Create the heatmap\n",
    "plt.figure(figsize=(12, 10))\n",
    "sns.heatmap(correlation_matrix, annot=True, fmt=\".2f\", cmap=\"coolwarm\", cbar=True)\n",
    "plt.title(\"Heatmap of Feature Collinearity (After Removing APP_PACKETS + SOURCE_APP_PACKETS)\")\n",
    "plt.xlabel(\"Features\")\n",
    "plt.ylabel(\"Features\")\n",
    "plt.show()"
   ]
  },
  {
   "cell_type": "code",
   "execution_count": null,
   "metadata": {},
   "outputs": [],
   "source": [
    "# Remove the next highly correlated column\n",
    "websites_copy = websites_copy.drop(columns=['REMOTE_APP_BYTES'])\n",
    "\n",
    "# Recompute the correlation matrix after dropping `REMOTE_APP_BYTES`\n",
    "correlation_matrix = websites_copy.corr()\n",
    "\n",
    "# Create the heatmap\n",
    "plt.figure(figsize=(12, 10))\n",
    "sns.heatmap(correlation_matrix, annot=True, fmt=\".2f\", cmap=\"coolwarm\", cbar=True)\n",
    "plt.title(\"Heatmap of Feature Collinearity (After Removing APP_PACKETS + SOURCE_APP_PACKETS + REMOTE_APP_BYTES)\")\n",
    "plt.xlabel(\"Features\")\n",
    "plt.ylabel(\"Features\")\n",
    "plt.show()"
   ]
  },
  {
   "cell_type": "code",
   "execution_count": null,
   "metadata": {},
   "outputs": [],
   "source": [
    "# Remove the next highly correlated column\n",
    "websites_copy = websites_copy.drop(columns=['SOURCE_APP_BYTES'])\n",
    "\n",
    "# Recompute the correlation matrix after dropping `SOURCE_APP_BYTES`\n",
    "correlation_matrix = websites_copy.corr()\n",
    "\n",
    "# Create the heatmap\n",
    "plt.figure(figsize=(12, 10))\n",
    "sns.heatmap(correlation_matrix, annot=True, fmt=\".2f\", cmap=\"coolwarm\", cbar=True)\n",
    "plt.title(\"Heatmap of Feature Collinearity (After Removing APP_PACKETS + SOURCE_APP_PACKETS + REMOTE_APP_BYTES + SOURCE_APP_BYTES)\")\n",
    "plt.xlabel(\"Features\")\n",
    "plt.ylabel(\"Features\")\n",
    "plt.show()"
   ]
  },
  {
   "cell_type": "markdown",
   "metadata": {},
   "source": [
    "# Challenge 3 - Handle Missing Values\n",
    "\n",
    "The next step would be handling missing values. **We start by examining the number of missing values in each column, which you will do in the next cell.**"
   ]
  },
  {
   "cell_type": "code",
   "execution_count": null,
   "metadata": {},
   "outputs": [],
   "source": [
    "# Examine missing values in the websites_copy DataFrame\n",
    "missing_values = websites_copy.isnull().sum()\n",
    "\n",
    "# Display columns with missing values and their counts\n",
    "missing_values = missing_values[missing_values > 0]\n",
    "print(\"Columns with missing values:\")\n",
    "print(missing_values)\n",
    "\n",
    "# Calculate the percentage of missing values\n",
    "missing_percentage = (missing_values / len(websites_copy)) * 100\n",
    "print(\"\\nPercentage of missing values per column:\")\n",
    "print(missing_percentage)"
   ]
  },
  {
   "cell_type": "code",
   "execution_count": 25,
   "metadata": {},
   "outputs": [],
   "source": [
    "# Firts we will drop the columns with more than 50% of missing data\n",
    "websites_copy = websites_copy.drop(columns=['WHOIS_REGDATE_NUM', 'WHOIS_UPDATED_DATE_NUM'])"
   ]
  },
  {
   "cell_type": "code",
   "execution_count": null,
   "metadata": {},
   "outputs": [],
   "source": [
    "# Now we will drop the rows with missing data\n",
    "websites_copy = websites_copy.dropna()\n"
   ]
  },
  {
   "cell_type": "markdown",
   "metadata": {},
   "source": [
    "#### Again, examine the number of missing values in each column. \n",
    "\n",
    "    If all cleaned, proceed. Otherwise, go back and do more cleaning."
   ]
  },
  {
   "cell_type": "code",
   "execution_count": null,
   "metadata": {},
   "outputs": [],
   "source": [
    "# Examine missing values in the websites_copy DataFrame\n",
    "missing_values = websites_copy.isnull().sum()\n",
    "\n",
    "# Display columns with missing values and their counts\n",
    "missing_values = missing_values[missing_values > 0]\n",
    "print(\"Columns with missing values:\")\n",
    "print(missing_values)\n",
    "\n",
    "# Calculate the percentage of missing values\n",
    "missing_percentage = (missing_values / len(websites_copy)) * 100\n",
    "print(\"\\nPercentage of missing values per column:\")\n",
    "print(missing_percentage)"
   ]
  },
  {
   "cell_type": "markdown",
   "metadata": {},
   "source": [
    "# Challenge 4 - Handle `WHOIS_*` Categorical Data"
   ]
  },
  {
   "cell_type": "markdown",
   "metadata": {},
   "source": [
    "There are several categorical columns we need to handle. These columns are:\n",
    "\n",
    "* `URL`\n",
    "* `CHARSET`\n",
    "* `SERVER`\n",
    "* `WHOIS_COUNTRY`\n",
    "* `WHOIS_STATEPRO`\n",
    "* `WHOIS_REGDATE`\n",
    "* `WHOIS_UPDATED_DATE`\n",
    "\n",
    "How to handle string columns is always case by case. Let's start by working on `WHOIS_COUNTRY`. Your steps are:\n",
    "\n",
    "1. List out the unique values of `WHOIS_COUNTRY`.\n",
    "1. Consolidate the country values with consistent country codes. For example, the following values refer to the same country and should use consistent country code:\n",
    "    * `CY` and `Cyprus`\n",
    "    * `US` and `us`\n",
    "    * `SE` and `se`\n",
    "    * `GB`, `United Kingdom`, and `[u'GB'; u'UK']`\n",
    "\n",
    "#### In the cells below, fix the country values as intructed above."
   ]
  },
  {
   "cell_type": "code",
   "execution_count": null,
   "metadata": {
    "scrolled": true
   },
   "outputs": [],
   "source": [
    "# check outputs\n",
    "value_counts = websites.WHOIS_COUNTRY.value_counts()\n",
    "unique_values = websites.WHOIS_COUNTRY.unique()\n",
    "nunique_values = websites.WHOIS_COUNTRY.nunique()\n",
    "\n",
    "# Create a structured table\n",
    "output_data = {\n",
    "    \"Metric\": [\"Value Counts\", \"Unique Values\", \"Number of Unique Values\"],\n",
    "    \"Result\": [\n",
    "        value_counts.to_dict(),  # Convert value_counts to a dictionary for clarity\n",
    "        list(unique_values),     # Convert unique values to a list\n",
    "        nunique_values           # Number of unique values\n",
    "    ]\n",
    "}\n",
    "\n",
    "# Convert to DataFrame for tabulation\n",
    "output_df = pd.DataFrame(output_data)\n",
    "\n",
    "# Display the table using tabulate\n",
    "print(tabulate(output_df, headers=\"keys\", tablefmt=\"grid\"))"
   ]
  },
  {
   "cell_type": "code",
   "execution_count": null,
   "metadata": {},
   "outputs": [],
   "source": [
    "\n",
    "good_country = {'None':'None', \n",
    "                'US':'US', \n",
    "                'SC':'SC', \n",
    "                'GB':'UK', \n",
    "                'UK':'UK', \n",
    "                'RU':'RU', \n",
    "                'AU':'AU', \n",
    "                'CA':'CA',\n",
    "                'PA':'PA',\n",
    "                'se':'SE', \n",
    "                'IN':'IN',\n",
    "                'LU':'LU', \n",
    "                'TH':'TH', \n",
    "                \"[u'GB'; u'UK']\":'UK', \n",
    "                'FR':'FR',\n",
    "                'NL':'NL',\n",
    "                'UG':'UG', \n",
    "                'JP':'JP', \n",
    "                'CN':'CN', \n",
    "                'SE':'SE',\n",
    "                'SI':'SI', \n",
    "                'IL':'IL', \n",
    "                'ru':'RU', \n",
    "                'KY':'KY', \n",
    "                'AT':'AT', \n",
    "                'CZ':'CZ', \n",
    "                'PH':'PH', \n",
    "                'BE':'BE', \n",
    "                'NO':'NO', \n",
    "                'TR':'TR', \n",
    "                'LV':'LV',\n",
    "                'DE':'DE', \n",
    "                'ES':'ES', \n",
    "                'BR':'BR', \n",
    "                'us':'US', \n",
    "                'KR':'KR', \n",
    "                'HK':'HK', \n",
    "                'UA':'UA', \n",
    "                'CH':'CH', \n",
    "                'United Kingdom':'UK',\n",
    "                'BS':'BS', \n",
    "                'PK':'PK', \n",
    "                'IT':'IT', \n",
    "                'Cyprus':'CY', \n",
    "                'BY':'BY', \n",
    "                'AE':'AE', \n",
    "                'IE':'IE', \n",
    "                'UY':'UY', \n",
    "                'KG':'KG'}\n",
    "\n",
    "# Find matches between dictionary keys and column values\n",
    "dict_keys = set(good_country.keys())\n",
    "column_values = set(websites[\"WHOIS_COUNTRY\"].unique())\n",
    "matches = dict_keys.intersection(column_values)\n",
    "\n",
    "# Count matches\n",
    "num_matches = len(matches)\n",
    "\n",
    "unmatched_values = column_values - dict_keys  \n",
    "num_unmatched = len(unmatched_values)\n",
    "\n",
    "print(f\"Number of matches: {num_matches}\")\n",
    "print(f\"Number of unmatched values: {num_unmatched}\")\n",
    "print(f\"Unmatched values: {unmatched_values}\")\n",
    "\n",
    "# there is a {nan} unmatched, which I will fill with UNKNOWN\n",
    "websites.WHOIS_COUNTRY = websites.WHOIS_COUNTRY.fillna(\"UNKNOWN\").apply(lambda x: good_country.get(x, \"UNKNOWN\"))\n",
    "\n",
    "# websites.WHOIS_COUNTRY = websites.WHOIS_COUNTRY.apply(lambda x : good_country[x])"
   ]
  },
  {
   "cell_type": "code",
   "execution_count": null,
   "metadata": {},
   "outputs": [],
   "source": [
    "websites.WHOIS_COUNTRY.unique()"
   ]
  },
  {
   "cell_type": "markdown",
   "metadata": {},
   "source": [
    "Since we have fixed the country values, can we convert this column to ordinal now?\n",
    "\n",
    "Not yet. If you reflect on the previous labs how we handle categorical columns, you probably remember we ended up dropping a lot of those columns because there are too many unique values. Too many unique values in a column is not desirable in machine learning because it makes prediction inaccurate. But there are workarounds under certain conditions. One of the fixable conditions is:\n",
    "\n",
    "#### If a limited number of values account for the majority of data, we can retain these top values and re-label all other rare values.\n",
    "\n",
    "The `WHOIS_COUNTRY` column happens to be this case. You can verify it by print a bar chart of the `value_counts` in the next cell to verify:"
   ]
  },
  {
   "cell_type": "code",
   "execution_count": 45,
   "metadata": {},
   "outputs": [],
   "source": [
    "def print_bar_plot(x,y):\n",
    "    plt.bar(x, y)\n",
    "    plt.figure(figsize=(15,15))\n",
    "    return plt.show()"
   ]
  },
  {
   "cell_type": "code",
   "execution_count": null,
   "metadata": {},
   "outputs": [],
   "source": [
    "print_bar_plot(websites.WHOIS_COUNTRY.unique(),websites.WHOIS_COUNTRY.value_counts());"
   ]
  },
  {
   "cell_type": "markdown",
   "metadata": {},
   "source": [
    "#### After verifying, now let's keep the top 10 values of the column and re-label other columns with `OTHER`."
   ]
  },
  {
   "cell_type": "code",
   "execution_count": null,
   "metadata": {},
   "outputs": [],
   "source": [
    "# Output the counts of the top 10 values in the WHOIS_COUNTRY column\n",
    "top_10_counts = websites[\"WHOIS_COUNTRY\"].value_counts().head(10)\n",
    "\n",
    "print(\"Top 10 WHOIS_COUNTRY values and their counts:\")\n",
    "print(top_10_counts)\n",
    "\n",
    "# Bar plot for visualization\n",
    "top_10_counts.plot(kind='bar', figsize=(10, 6), title=\"Top 10 WHOIS_COUNTRY Values\")\n",
    "plt.xlabel(\"WHOIS_COUNTRY\")\n",
    "plt.ylabel(\"Count\")\n",
    "plt.show()"
   ]
  },
  {
   "cell_type": "markdown",
   "metadata": {},
   "source": [
    "Now since `WHOIS_COUNTRY` has been re-labelled, we don't need `WHOIS_STATEPRO` any more because the values of the states or provinces may not be relevant any more. We'll drop this column.\n",
    "\n",
    "In addition, we will also drop `WHOIS_REGDATE` and `WHOIS_UPDATED_DATE`. These are the registration and update dates of the website domains. Not of our concerns.\n",
    "\n",
    "#### In the next cell, drop `['WHOIS_STATEPRO', 'WHOIS_REGDATE', 'WHOIS_UPDATED_DATE']`."
   ]
  },
  {
   "cell_type": "code",
   "execution_count": 48,
   "metadata": {},
   "outputs": [],
   "source": [
    "\n",
    "columns_to_drop = ['WHOIS_STATEPRO', 'WHOIS_REGDATE', 'WHOIS_UPDATED_DATE']\n",
    "websites.drop(columns=columns_to_drop, inplace=True)"
   ]
  },
  {
   "cell_type": "markdown",
   "metadata": {},
   "source": [
    "# Challenge 5 - Handle Remaining Categorical Data & Convert to Ordinal\n",
    "\n",
    "Now print the `dtypes` of the data again. Besides `WHOIS_COUNTRY` which we already fixed, there should be 3 categorical columns left: `URL`, `CHARSET`, and `SERVER`."
   ]
  },
  {
   "cell_type": "code",
   "execution_count": null,
   "metadata": {},
   "outputs": [],
   "source": [
    "websites.dtypes"
   ]
  },
  {
   "cell_type": "markdown",
   "metadata": {},
   "source": [
    "#### `URL` is easy. We'll simply drop it because it has too many unique values that there's no way for us to consolidate."
   ]
  },
  {
   "cell_type": "code",
   "execution_count": 51,
   "metadata": {},
   "outputs": [],
   "source": [
    "columns_to_drop = ['URL']\n",
    "websites.drop(columns=columns_to_drop, inplace=True)"
   ]
  },
  {
   "cell_type": "markdown",
   "metadata": {},
   "source": [
    "#### Print the unique value counts of `CHARSET`. You see there are only a few unique values. So we can keep it as it is."
   ]
  },
  {
   "cell_type": "code",
   "execution_count": null,
   "metadata": {},
   "outputs": [],
   "source": [
    "websites.CHARSET.unique()"
   ]
  },
  {
   "cell_type": "markdown",
   "metadata": {},
   "source": [
    "`SERVER` is a little more complicated. Print its unique values and think about how you can consolidate those values.\n",
    "\n",
    "#### Before you think of your own solution, don't read the instructions that come next."
   ]
  },
  {
   "cell_type": "code",
   "execution_count": null,
   "metadata": {},
   "outputs": [],
   "source": [
    "websites.SERVER.unique()"
   ]
  },
  {
   "cell_type": "markdown",
   "metadata": {},
   "source": [
    "Although there are so many unique values in the `SERVER` column, there are actually only 3 main server types: `Microsoft`, `Apache`, and `nginx`. Just check if each `SERVER` value contains any of those server types and re-label them. For `SERVER` values that don't contain any of those substrings, label with `Other`.\n",
    "\n",
    "At the end, your `SERVER` column should only contain 4 unique values: `Microsoft`, `Apache`, `nginx`, and `Other`."
   ]
  },
  {
   "cell_type": "code",
   "execution_count": null,
   "metadata": {
    "scrolled": false
   },
   "outputs": [],
   "source": [
    "# Count `SERVER` value counts here\n",
    "\n",
    "# Tuple of servers to match\n",
    "servers = ('Microsoft', 'Apache', 'nginx')\n",
    "\n",
    "\n",
    "def server_match(server):\n",
    "    if isinstance(server, str):  # Only process if  value is a str\n",
    "        for s in servers:\n",
    "            if s.lower() in server.lower():  # Case-insensitive match\n",
    "                return s  # Return  matched server from  tuple\n",
    "    return \"Other\"  # If no match or invalid type, return \"Other\"\n",
    "\n",
    "# Apply function to  column\n",
    "websites[\"SERVER\"] = websites[\"SERVER\"].apply(server_match)\n",
    "\n",
    "# Display unique values in updated column\n",
    "print(\"Unique SERVER values:\")\n",
    "print(websites[\"SERVER\"].unique())\n",
    "\n",
    "# Count of top SERVER values\n",
    "print(\"\\nSERVER value counts:\")\n",
    "print(websites[\"SERVER\"].value_counts())"
   ]
  },
  {
   "cell_type": "markdown",
   "metadata": {},
   "source": [
    "OK, all our categorical data are fixed now. **Let's convert them to ordinal data using Pandas' `get_dummies` function ([documentation](https://pandas.pydata.org/pandas-docs/stable/generated/pandas.get_dummies.html)).** Make sure you drop the categorical columns by passing `drop_first=True` to `get_dummies` as we don't need them any more. **Also, assign the data with dummy values to a new variable `website_dummy`.**"
   ]
  },
  {
   "cell_type": "code",
   "execution_count": 57,
   "metadata": {},
   "outputs": [],
   "source": [
    "website_dummy = pd.get_dummies(websites, drop_first=True)"
   ]
  },
  {
   "cell_type": "markdown",
   "metadata": {},
   "source": [
    "Now, inspect `website_dummy` to make sure the data and types are intended - there shouldn't be any categorical columns at this point."
   ]
  },
  {
   "cell_type": "code",
   "execution_count": null,
   "metadata": {},
   "outputs": [],
   "source": [
    "website_dummy.dtypes\n",
    "\n",
    "# no categoricals"
   ]
  },
  {
   "cell_type": "markdown",
   "metadata": {},
   "source": [
    "# Challenge 6 - Modeling, Prediction, and Evaluation\n",
    "\n",
    "We'll start off this section by splitting the data to train and test. **Name your 4 variables `X_train`, `X_test`, `y_train`, and `y_test`. Select 80% of the data for training and 20% for testing.**"
   ]
  },
  {
   "cell_type": "code",
   "execution_count": null,
   "metadata": {},
   "outputs": [],
   "source": [
    "from sklearn.model_selection import train_test_split\n",
    "\n",
    "# separate features (X) and target (y)\n",
    "X = website_dummy.drop(columns=['Type'])\n",
    "y = website_dummy['Type']  \n",
    "\n",
    "# Split the dataset into training and testing sets\n",
    "X_train, X_test, y_train, y_test = train_test_split(X, y, test_size=0.2, random_state=27)\n",
    "\n",
    "# Initialize the XGBoost classifier\n",
    "model = XGBClassifier(random_state=27)\n",
    "\n",
    "# Train the model\n",
    "model.fit(X_train, y_train)\n",
    "\n",
    "# Make predictions\n",
    "y_pred = model.predict(X_test)\n",
    "\n",
    "# Evaluate the model\n",
    "accuracy = accuracy_score(y_test, y_pred)\n",
    "print(f\"Accuracy: {accuracy:.2f}\")\n",
    "\n",
    "# Generate classification report\n",
    "report = classification_report(y_test, y_pred, output_dict=True)\n",
    "report_df = pd.DataFrame(report).transpose()\n",
    "\n",
    "# Display tabulated classification report\n",
    "print(\"\\nClassification Report:\")\n",
    "print(tabulate(report_df, headers=\"keys\", tablefmt=\"grid\", floatfmt=\".2f\"))\n"
   ]
  },
  {
   "cell_type": "markdown",
   "metadata": {},
   "source": [
    "#### In this lab, we will try two different models and compare our results.\n",
    "\n",
    "The first model we will use in this lab is logistic regression. We have previously learned about logistic regression as a classification algorithm. In the cell below, load `LogisticRegression` from scikit-learn and initialize the model."
   ]
  },
  {
   "cell_type": "code",
   "execution_count": null,
   "metadata": {},
   "outputs": [],
   "source": [
    "from sklearn.linear_model import LogisticRegression\n",
    "\n",
    "# Separate features (X) and target (y)\n",
    "X = website_dummy.drop(columns=['Type'])\n",
    "y = website_dummy['Type']  \n",
    "\n",
    "# dropping rows with missing values\n",
    "X = X.dropna()\n",
    "y = y.loc[X.index]  # Align `y` with the updated `X`\n",
    "\n",
    "\n",
    "\n",
    "# Split the dataset into training and testing sets\n",
    "X_train, X_test, y_train, y_test = train_test_split(X, y, test_size=0.2, random_state=27)\n",
    "\n",
    "# Initialize the Logistic Regression model\n",
    "logistic_model = LogisticRegression(random_state=27, max_iter=1000)\n",
    "\n",
    "# Train the Logistic Regression model\n",
    "logistic_model.fit(X_train, y_train)\n",
    "\n",
    "# Make predictions\n",
    "y_pred = logistic_model.predict(X_test)\n",
    "\n",
    "# Evaluate the model\n",
    "accuracy = accuracy_score(y_test, y_pred)\n",
    "print(f\"Accuracy: {accuracy:.2f}\")\n",
    "\n",
    "# Generate classification report\n",
    "report = classification_report(y_test, y_pred, output_dict=True)\n",
    "report_df = pd.DataFrame(report).transpose()\n",
    "\n",
    "# Display tabulated classification report\n",
    "print(\"\\nClassification Report:\")\n",
    "print(tabulate(report_df, headers=\"keys\", tablefmt=\"grid\", floatfmt=\".2f\"))\n"
   ]
  },
  {
   "cell_type": "markdown",
   "metadata": {},
   "source": [
    "Next, fit the model to our training data. We have already separated our data into 4 parts. Use those in your model."
   ]
  },
  {
   "cell_type": "code",
   "execution_count": null,
   "metadata": {},
   "outputs": [],
   "source": [
    "# Fit the Logistic Regression model to the training data\n",
    "logistic_model.fit(X_train, y_train)\n",
    "\n",
    "# Make predictions on the test data\n",
    "y_pred = logistic_model.predict(X_test)\n",
    "\n",
    "# Evaluate the model\n",
    "accuracy = accuracy_score(y_test, y_pred)\n",
    "print(f\"Accuracy: {accuracy:.2f}\")\n",
    "\n",
    "# Generate a classification report\n",
    "report = classification_report(y_test, y_pred, output_dict=True)\n",
    "report_df = pd.DataFrame(report).transpose()\n",
    "\n",
    "# Display the classification report using tabulate\n",
    "print(\"\\nClassification Report:\")\n",
    "print(tabulate(report_df, headers=\"keys\", tablefmt=\"grid\", floatfmt=\".2f\"))"
   ]
  },
  {
   "cell_type": "markdown",
   "metadata": {},
   "source": [
    "finally, import `confusion_matrix` and `accuracy_score` from `sklearn.metrics` and fit our testing data. Assign the fitted data to `y_pred` and print the confusion matrix as well as the accuracy score"
   ]
  },
  {
   "cell_type": "code",
   "execution_count": null,
   "metadata": {},
   "outputs": [],
   "source": [
    "from sklearn.metrics import confusion_matrix, accuracy_score\n",
    "\n",
    "\n",
    "# Compute the confusion matrix\n",
    "conf_matrix = confusion_matrix(y_test, y_pred)\n",
    "\n",
    "# Compute the accuracy score\n",
    "accuracy = accuracy_score(y_test, y_pred)\n",
    "\n",
    "# Display results\n",
    "print(\"Confusion Matrix:\")\n",
    "print(conf_matrix)\n",
    "\n",
    "print(f\"\\nAccuracy Score: {accuracy:.2f}\")"
   ]
  },
  {
   "cell_type": "markdown",
   "metadata": {},
   "source": [
    "What are your thoughts on the performance of the model? Write your conclusions below."
   ]
  },
  {
   "cell_type": "code",
   "execution_count": null,
   "metadata": {},
   "outputs": [],
   "source": [
    "# Accuracy Score: 0.94\n",
    "\n",
    "# True Negatives (172): The model correctly identifies most benign websites (class 0).\n",
    "# False Positives (8): A small number of benign websites are misclassified as malicious (class 1).\n",
    "# False Negatives (4): Some malicious websites (class 1) are missed and classified as benign.\n",
    "# True Positives (10): The model identifies some malicious websites correctly."
   ]
  },
  {
   "cell_type": "markdown",
   "metadata": {},
   "source": [
    "### Your conclusions here:\n",
    "    The model is working fine but it have many errors in Type 2, it says that the model predict a non malicious web like a malicious web\n"
   ]
  },
  {
   "cell_type": "markdown",
   "metadata": {},
   "source": [
    "#### Our second algorithm is is DecisionTreeClassifier\n",
    "\n",
    "Though is it not required, we will fit a model using the training data and then test the performance of the model using the testing data. Start by loading `DecisionTreeClassifier` from scikit-learn and then initializing and fitting the model. We'll start off with a model where max_depth=3"
   ]
  },
  {
   "cell_type": "code",
   "execution_count": null,
   "metadata": {},
   "outputs": [],
   "source": [
    "from sklearn.tree import DecisionTreeClassifier\n",
    "\n",
    "# Initialize the Decision Tree Classifier with max_depth=3\n",
    "decision_tree_model = DecisionTreeClassifier(max_depth=3, random_state=27)\n",
    "\n",
    "# Fit the model to the training data\n",
    "decision_tree_model.fit(X_train, y_train)\n",
    "\n",
    "# Make predictions on the test data\n",
    "y_pred_tree = decision_tree_model.predict(X_test)\n",
    "\n",
    "# Evaluate the model\n",
    "accuracy_tree = accuracy_score(y_test, y_pred_tree)\n",
    "print(f\"Accuracy: {accuracy_tree:.2f}\")\n",
    "\n",
    "# Generate a classification report\n",
    "report_tree = classification_report(y_test, y_pred_tree, output_dict=True)\n",
    "report_tree_df = pd.DataFrame(report_tree).transpose()\n",
    "\n",
    "# Display the classification report using tabulate\n",
    "print(\"\\nClassification Report:\")\n",
    "print(tabulate(report_tree_df, headers=\"keys\", tablefmt=\"grid\", floatfmt=\".2f\"))\n",
    "\n",
    "# Display the confusion matrix\n",
    "conf_matrix_tree = confusion_matrix(y_test, y_pred_tree)\n",
    "print(\"\\nConfusion Matrix:\")\n",
    "print(conf_matrix_tree)"
   ]
  },
  {
   "cell_type": "code",
   "execution_count": 65,
   "metadata": {},
   "outputs": [],
   "source": [
    "# True Negatives (179): The model correctly predicts most benign websites as benign.\n",
    "# False Positives (1): Only one benign website is misclassified as malicious.\n",
    "# False Negatives (7): The model misses 50% of malicious websites.\n",
    "# True Positives (7): The model identifies 50% of malicious websites.\n"
   ]
  },
  {
   "cell_type": "markdown",
   "metadata": {},
   "source": [
    "To test your model, compute the predicted probabilities, decide 0 or 1 using a threshold of 0.5 and print the confusion matrix as well as the accuracy score (on the test set!)"
   ]
  },
  {
   "cell_type": "code",
   "execution_count": null,
   "metadata": {},
   "outputs": [],
   "source": [
    "# Compute the predicted probabilities\n",
    "y_prob = decision_tree_model.predict_proba(X_test)[:, 1]\n",
    "\n",
    "# Convert probabilities to binary predictions using a threshold of 0.5\n",
    "y_pred_threshold = (y_prob >= 0.5).astype(int)\n",
    "\n",
    "# Compute the confusion matrix\n",
    "conf_matrix_threshold = confusion_matrix(y_test, y_pred_threshold)\n",
    "\n",
    "# Compute the accuracy score\n",
    "accuracy_threshold = accuracy_score(y_test, y_pred_threshold)\n",
    "\n",
    "# Display the results\n",
    "print(\"Confusion Matrix (Threshold = 0.5):\")\n",
    "print(conf_matrix_threshold)\n",
    "\n",
    "print(f\"\\nAccuracy Score (Threshold = 0.5): {accuracy_threshold:.2f}\")"
   ]
  },
  {
   "cell_type": "markdown",
   "metadata": {},
   "source": [
    "#### We'll create another DecisionTreeClassifier model with max_depth=5. \n",
    "Initialize and fit the model below and print the confusion matrix and the accuracy score."
   ]
  },
  {
   "cell_type": "code",
   "execution_count": null,
   "metadata": {},
   "outputs": [],
   "source": [
    "from sklearn.tree import DecisionTreeClassifier\n",
    "\n",
    "# Initialize the Decision Tree Classifier with max_depth=5\n",
    "decision_tree_model = DecisionTreeClassifier(max_depth=5, random_state=27)\n",
    "\n",
    "# Fit the model to the training data\n",
    "decision_tree_model.fit(X_train, y_train)\n",
    "\n",
    "# Make predictions on the test data\n",
    "y_pred_tree = decision_tree_model.predict(X_test)\n",
    "\n",
    "# Evaluate the model\n",
    "accuracy_tree = accuracy_score(y_test, y_pred_tree)\n",
    "print(f\"Accuracy: {accuracy_tree:.2f}\")\n",
    "\n",
    "# Generate a classification report\n",
    "report_tree = classification_report(y_test, y_pred_tree, output_dict=True)\n",
    "report_tree_df = pd.DataFrame(report_tree).transpose()\n",
    "\n",
    "# Display the classification report using tabulate\n",
    "print(\"\\nClassification Report:\")\n",
    "print(tabulate(report_tree_df, headers=\"keys\", tablefmt=\"grid\", floatfmt=\".2f\"))\n",
    "\n",
    "# Display the confusion matrix\n",
    "conf_matrix_tree = confusion_matrix(y_test, y_pred_tree)\n",
    "print(\"\\nConfusion Matrix:\")\n",
    "print(conf_matrix_tree)"
   ]
  },
  {
   "cell_type": "markdown",
   "metadata": {},
   "source": [
    "Did you see an improvement in the confusion matrix when increasing max_depth to 5? Did you see an improvement in the accuracy score? Write your conclusions below."
   ]
  },
  {
   "cell_type": "code",
   "execution_count": null,
   "metadata": {},
   "outputs": [],
   "source": [
    "\n",
    "# At max_depth = 3: Recall = 50% (7/14).\n",
    "# At max_depth = 5: Recall = 93% (13/14).\n",
    "# This means the model now correctly identifies almost all malicious websites."
   ]
  },
  {
   "cell_type": "markdown",
   "metadata": {},
   "source": [
    "### Your conclusions here:\n"
   ]
  },
  {
   "cell_type": "markdown",
   "metadata": {},
   "source": [
    "<!-- Add your conclusion here -->"
   ]
  },
  {
   "cell_type": "markdown",
   "metadata": {},
   "source": [
    "# Bonus Challenge - Feature Scaling\n",
    "\n",
    "Problem-solving in machine learning is iterative. You can improve your model prediction with various techniques (there is a sweetspot for the time you spend and the improvement you receive though). Now you've completed only one iteration of ML analysis. There are more iterations you can conduct to make improvements. In order to be able to do that, you will need deeper knowledge in statistics and master more data analysis techniques. In this bootcamp, we don't have time to achieve that advanced goal. But you will make constant efforts after the bootcamp to eventually get there.\n",
    "\n",
    "However, now we do want you to learn one of the advanced techniques which is called *feature scaling*. The idea of feature scaling is to standardize/normalize the range of independent variables or features of the data. This can make the outliers more apparent so that you can remove them. This step needs to happen during Challenge 6 after you split the training and test data because you don't want to split the data again which makes it impossible to compare your results with and without feature scaling. For general concepts about feature scaling, click [here](https://en.wikipedia.org/wiki/Feature_scaling). To read deeper, click [here](https://medium.com/greyatom/why-how-and-when-to-scale-your-features-4b30ab09db5e).\n",
    "\n",
    "In the next cell, attempt to improve your model prediction accuracy by means of feature scaling. A library you can utilize is `sklearn.preprocessing.RobustScaler` ([documentation](https://scikit-learn.org/stable/modules/generated/sklearn.preprocessing.RobustScaler.html)). You'll use the `RobustScaler` to fit and transform your `X_train`, then transform `X_test`. You will use logistic regression to fit and predict your transformed data and obtain the accuracy score in the same way. Compare the accuracy score with your normalized data with the previous accuracy data. Is there an improvement?"
   ]
  },
  {
   "cell_type": "code",
   "execution_count": null,
   "metadata": {},
   "outputs": [],
   "source": [
    "from sklearn.preprocessing import RobustScaler\n",
    "\n",
    "# Initialize the RobustScaler\n",
    "scaler = RobustScaler()\n",
    "\n",
    "# Scale the training data and test data\n",
    "X_train_scaled = scaler.fit_transform(X_train)\n",
    "X_test_scaled = scaler.transform(X_test)\n",
    "\n",
    "# Initialize the Logistic Regression model\n",
    "logistic_model_scaled = LogisticRegression(random_state=27, max_iter=1000)\n",
    "\n",
    "# Train the Logistic Regression model with scaled data\n",
    "logistic_model_scaled.fit(X_train_scaled, y_train)\n",
    "\n",
    "# Make predictions with the scaled test data\n",
    "y_pred_scaled = logistic_model_scaled.predict(X_test_scaled)\n",
    "\n",
    "# Evaluate the model's accuracy with scaled data\n",
    "accuracy_scaled = accuracy_score(y_test, y_pred_scaled)\n",
    "print(f\"Accuracy with Scaled Data: {accuracy_scaled:.2f}\")\n",
    "\n",
    "# Generate classification report for scaled data\n",
    "report_scaled = classification_report(y_test, y_pred_scaled, output_dict=True)\n",
    "report_scaled_df = pd.DataFrame(report_scaled).transpose()\n",
    "\n",
    "# Display classification report using tabulate\n",
    "print(\"\\nClassification Report with Scaled Data:\")\n",
    "print(tabulate(report_scaled_df, headers=\"keys\", tablefmt=\"grid\", floatfmt=\".2f\"))\n",
    "\n",
    "# Compute and display the confusion matrix\n",
    "conf_matrix_scaled = confusion_matrix(y_test, y_pred_scaled)\n",
    "print(\"\\nConfusion Matrix with Scaled Data:\")\n",
    "print(conf_matrix_scaled)\n"
   ]
  },
  {
   "cell_type": "code",
   "execution_count": null,
   "metadata": {},
   "outputs": [],
   "source": [
    "# Count `SERVER` value counts here\n",
    "\n",
    "# Tuple of servers to match\n",
    "servers = ('Microsoft', 'Apache', 'nginx')\n",
    "\n",
    "\n",
    "def server_match(server):\n",
    "    if isinstance(server, str):  # Only process if  value is a str\n",
    "        for s in servers:\n",
    "            if s.lower() in server.lower():  # Case-insensitive match\n",
    "                return s  # Return  matched server from  tuple\n",
    "    return \"Other\"  # If no match or invalid type, return \"Other\"\n",
    "\n",
    "# Apply function to  column\n",
    "websites[\"SERVER\"] = websites[\"SERVER\"].apply(server_match)\n",
    "\n",
    "# Display unique values in updated column\n",
    "print(\"Unique SERVER values:\")\n",
    "print(websites[\"SERVER\"].unique())\n",
    "\n",
    "# Count of top SERVER values\n",
    "print(\"\\nSERVER value counts:\")\n",
    "print(websites[\"SERVER\"].value_counts())"
   ]
  },
  {
   "cell_type": "code",
   "execution_count": null,
   "metadata": {},
   "outputs": [],
   "source": [
    "# Count `SERVER` value counts here\n",
    "\n",
    "# Tuple of servers to match\n",
    "servers = ('Microsoft', 'Apache', 'nginx')\n",
    "\n",
    "\n",
    "def server_match(server):\n",
    "    if isinstance(server, str):  # Only process if  value is a str\n",
    "        for s in servers:\n",
    "            if s.lower() in server.lower():  # Case-insensitive match\n",
    "                return s  # Return  matched server from  tuple\n",
    "    return \"Other\"  # If no match or invalid type, return \"Other\"\n",
    "\n",
    "# Apply function to  column\n",
    "websites[\"SERVER\"] = websites[\"SERVER\"].apply(server_match)\n",
    "\n",
    "# Display unique values in updated column\n",
    "print(\"Unique SERVER values:\")\n",
    "print(websites[\"SERVER\"].unique())\n",
    "\n",
    "# Count of top SERVER values\n",
    "print(\"\\nSERVER value counts:\")\n",
    "print(websites[\"SERVER\"].value_counts())"
   ]
  },
  {
   "cell_type": "code",
   "execution_count": null,
   "metadata": {},
   "outputs": [],
   "source": [
    "# Count `SERVER` value counts here\n",
    "\n",
    "# Tuple of servers to match\n",
    "servers = ('Microsoft', 'Apache', 'nginx')\n",
    "\n",
    "\n",
    "def server_match(server):\n",
    "    if isinstance(server, str):  # Only process if  value is a str\n",
    "        for s in servers:\n",
    "            if s.lower() in server.lower():  # Case-insensitive match\n",
    "                return s  # Return  matched server from  tuple\n",
    "    return \"Other\"  # If no match or invalid type, return \"Other\"\n",
    "\n",
    "# Apply function to  column\n",
    "websites[\"SERVER\"] = websites[\"SERVER\"].apply(server_match)\n",
    "\n",
    "# Display unique values in updated column\n",
    "print(\"Unique SERVER values:\")\n",
    "print(websites[\"SERVER\"].unique())\n",
    "\n",
    "# Count of top SERVER values\n",
    "print(\"\\nSERVER value counts:\")\n",
    "print(websites[\"SERVER\"].value_counts())"
   ]
  },
  {
   "cell_type": "markdown",
   "metadata": {},
   "source": [
    "## Comments:"
   ]
  },
  {
   "cell_type": "markdown",
   "metadata": {},
   "source": [
    "Accuracy: The accuracy increased slightly from 0.94 to 0.95, showing an overall improvement in performance.\n",
    "\n",
    "Scaling improved the model's balance by slightly reducing false positives for benign websites (class 0)."
   ]
  }
 ],
 "metadata": {
  "kernelspec": {
   "display_name": "Python 3",
   "language": "python",
   "name": "python3"
  },
  "language_info": {
   "codemirror_mode": {
    "name": "ipython",
    "version": 3
   },
   "file_extension": ".py",
   "mimetype": "text/x-python",
   "name": "python",
   "nbconvert_exporter": "python",
   "pygments_lexer": "ipython3",
   "version": "3.10.10"
  },
  "toc": {
   "base_numbering": 1,
   "nav_menu": {},
   "number_sections": true,
   "sideBar": true,
   "skip_h1_title": false,
   "title_cell": "Table of Contents",
   "title_sidebar": "Contents",
   "toc_cell": true,
   "toc_position": {},
   "toc_section_display": true,
   "toc_window_display": false
  },
  "varInspector": {
   "cols": {
    "lenName": 16,
    "lenType": 16,
    "lenVar": 40
   },
   "kernels_config": {
    "python": {
     "delete_cmd_postfix": "",
     "delete_cmd_prefix": "del ",
     "library": "var_list.py",
     "varRefreshCmd": "print(var_dic_list())"
    },
    "r": {
     "delete_cmd_postfix": ") ",
     "delete_cmd_prefix": "rm(",
     "library": "var_list.r",
     "varRefreshCmd": "cat(var_dic_list()) "
    }
   },
   "types_to_exclude": [
    "module",
    "function",
    "builtin_function_or_method",
    "instance",
    "_Feature"
   ],
   "window_display": false
  }
 },
 "nbformat": 4,
 "nbformat_minor": 2
}
