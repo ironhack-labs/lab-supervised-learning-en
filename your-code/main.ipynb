{
 "cells": [
  {
   "cell_type": "markdown",
   "metadata": {
    "toc": true
   },
   "source": [
    "<h1>Table of Contents<span class=\"tocSkip\"></span></h1>\n",
    "<div class=\"toc\"><ul class=\"toc-item\"><li><span><a href=\"#Before-your-start:\" data-toc-modified-id=\"Before-your-start:-1\"><span class=\"toc-item-num\">1&nbsp;&nbsp;</span>Before your start:</a></span></li><li><span><a href=\"#Challenge-1---Explore-The-Dataset\" data-toc-modified-id=\"Challenge-1---Explore-The-Dataset-2\"><span class=\"toc-item-num\">2&nbsp;&nbsp;</span>Challenge 1 - Explore The Dataset</a></span><ul class=\"toc-item\"><li><ul class=\"toc-item\"><li><ul class=\"toc-item\"><li><span><a href=\"#Explore-the-data-from-an-bird's-eye-view.\" data-toc-modified-id=\"Explore-the-data-from-an-bird's-eye-view.-2.0.0.1\"><span class=\"toc-item-num\">2.0.0.1&nbsp;&nbsp;</span>Explore the data from an bird's-eye view.</a></span></li><li><span><a href=\"#Next,-evaluate-if-the-columns-in-this-dataset-are-strongly-correlated.\" data-toc-modified-id=\"Next,-evaluate-if-the-columns-in-this-dataset-are-strongly-correlated.-2.0.0.2\"><span class=\"toc-item-num\">2.0.0.2&nbsp;&nbsp;</span>Next, evaluate if the columns in this dataset are strongly correlated.</a></span></li></ul></li></ul></li></ul></li><li><span><a href=\"#Challenge-2---Remove-Column-Collinearity.\" data-toc-modified-id=\"Challenge-2---Remove-Column-Collinearity.-3\"><span class=\"toc-item-num\">3&nbsp;&nbsp;</span>Challenge 2 - Remove Column Collinearity.</a></span></li><li><span><a href=\"#Challenge-3---Handle-Missing-Values\" data-toc-modified-id=\"Challenge-3---Handle-Missing-Values-4\"><span class=\"toc-item-num\">4&nbsp;&nbsp;</span>Challenge 3 - Handle Missing Values</a></span><ul class=\"toc-item\"><li><ul class=\"toc-item\"><li><ul class=\"toc-item\"><li><span><a href=\"#In-the-cells-below,-handle-the-missing-values-from-the-dataset.-Remember-to-comment-the-rationale-of-your-decisions.\" data-toc-modified-id=\"In-the-cells-below,-handle-the-missing-values-from-the-dataset.-Remember-to-comment-the-rationale-of-your-decisions.-4.0.0.1\"><span class=\"toc-item-num\">4.0.0.1&nbsp;&nbsp;</span>In the cells below, handle the missing values from the dataset. Remember to comment the rationale of your decisions.</a></span></li><li><span><a href=\"#Again,-examine-the-number-of-missing-values-in-each-column.\" data-toc-modified-id=\"Again,-examine-the-number-of-missing-values-in-each-column.-4.0.0.2\"><span class=\"toc-item-num\">4.0.0.2&nbsp;&nbsp;</span>Again, examine the number of missing values in each column.</a></span></li></ul></li></ul></li></ul></li><li><span><a href=\"#Challenge-4---Handle-WHOIS_*-Categorical-Data\" data-toc-modified-id=\"Challenge-4---Handle-WHOIS_*-Categorical-Data-5\"><span class=\"toc-item-num\">5&nbsp;&nbsp;</span>Challenge 4 - Handle <code>WHOIS_*</code> Categorical Data</a></span><ul class=\"toc-item\"><li><ul class=\"toc-item\"><li><ul class=\"toc-item\"><li><span><a href=\"#In-the-cells-below,-fix-the-country-values-as-intructed-above.\" data-toc-modified-id=\"In-the-cells-below,-fix-the-country-values-as-intructed-above.-5.0.0.1\"><span class=\"toc-item-num\">5.0.0.1&nbsp;&nbsp;</span>In the cells below, fix the country values as intructed above.</a></span></li><li><span><a href=\"#If-a-limited-number-of-values-account-for-the-majority-of-data,-we-can-retain-these-top-values-and-re-label-all-other-rare-values.\" data-toc-modified-id=\"If-a-limited-number-of-values-account-for-the-majority-of-data,-we-can-retain-these-top-values-and-re-label-all-other-rare-values.-5.0.0.2\"><span class=\"toc-item-num\">5.0.0.2&nbsp;&nbsp;</span>If a limited number of values account for the majority of data, we can retain these top values and re-label all other rare values.</a></span></li><li><span><a href=\"#After-verifying,-now-let's-keep-the-top-10-values-of-the-column-and-re-label-other-columns-with-OTHER.\" data-toc-modified-id=\"After-verifying,-now-let's-keep-the-top-10-values-of-the-column-and-re-label-other-columns-with-OTHER.-5.0.0.3\"><span class=\"toc-item-num\">5.0.0.3&nbsp;&nbsp;</span>After verifying, now let's keep the top 10 values of the column and re-label other columns with <code>OTHER</code>.</a></span></li><li><span><a href=\"#In-the-next-cell,-drop-['WHOIS_STATEPRO',-'WHOIS_REGDATE',-'WHOIS_UPDATED_DATE'].\" data-toc-modified-id=\"In-the-next-cell,-drop-['WHOIS_STATEPRO',-'WHOIS_REGDATE',-'WHOIS_UPDATED_DATE'].-5.0.0.4\"><span class=\"toc-item-num\">5.0.0.4&nbsp;&nbsp;</span>In the next cell, drop <code>['WHOIS_STATEPRO', 'WHOIS_REGDATE', 'WHOIS_UPDATED_DATE']</code>.</a></span></li></ul></li></ul></li></ul></li><li><span><a href=\"#Challenge-5---Handle-Remaining-Categorical-Data-&amp;-Convert-to-Ordinal\" data-toc-modified-id=\"Challenge-5---Handle-Remaining-Categorical-Data-&amp;-Convert-to-Ordinal-6\"><span class=\"toc-item-num\">6&nbsp;&nbsp;</span>Challenge 5 - Handle Remaining Categorical Data &amp; Convert to Ordinal</a></span><ul class=\"toc-item\"><li><ul class=\"toc-item\"><li><ul class=\"toc-item\"><li><span><a href=\"#URL-is-easy.-We'll-simply-drop-it-because-it-has-too-many-unique-values-that-there's-no-way-for-us-to-consolidate.\" data-toc-modified-id=\"URL-is-easy.-We'll-simply-drop-it-because-it-has-too-many-unique-values-that-there's-no-way-for-us-to-consolidate.-6.0.0.1\"><span class=\"toc-item-num\">6.0.0.1&nbsp;&nbsp;</span><code>URL</code> is easy. We'll simply drop it because it has too many unique values that there's no way for us to consolidate.</a></span></li><li><span><a href=\"#Print-the-unique-value-counts-of-CHARSET.-You-see-there-are-only-a-few-unique-values.-So-we-can-keep-it-as-it-is.\" data-toc-modified-id=\"Print-the-unique-value-counts-of-CHARSET.-You-see-there-are-only-a-few-unique-values.-So-we-can-keep-it-as-it-is.-6.0.0.2\"><span class=\"toc-item-num\">6.0.0.2&nbsp;&nbsp;</span>Print the unique value counts of <code>CHARSET</code>. You see there are only a few unique values. So we can keep it as it is.</a></span></li><li><span><a href=\"#Before-you-think-of-your-own-solution,-don't-read-the-instructions-that-come-next.\" data-toc-modified-id=\"Before-you-think-of-your-own-solution,-don't-read-the-instructions-that-come-next.-6.0.0.3\"><span class=\"toc-item-num\">6.0.0.3&nbsp;&nbsp;</span>Before you think of your own solution, don't read the instructions that come next.</a></span></li></ul></li></ul></li></ul></li><li><span><a href=\"#Challenge-6---Modeling,-Prediction,-and-Evaluation\" data-toc-modified-id=\"Challenge-6---Modeling,-Prediction,-and-Evaluation-7\"><span class=\"toc-item-num\">7&nbsp;&nbsp;</span>Challenge 6 - Modeling, Prediction, and Evaluation</a></span><ul class=\"toc-item\"><li><ul class=\"toc-item\"><li><ul class=\"toc-item\"><li><span><a href=\"#In-this-lab,-we-will-try-two-different-models-and-compare-our-results.\" data-toc-modified-id=\"In-this-lab,-we-will-try-two-different-models-and-compare-our-results.-7.0.0.1\"><span class=\"toc-item-num\">7.0.0.1&nbsp;&nbsp;</span>In this lab, we will try two different models and compare our results.</a></span></li><li><span><a href=\"#Our-second-algorithm-is-is-DecisionTreeClassifier\" data-toc-modified-id=\"Our-second-algorithm-is-is-DecisionTreeClassifier-7.0.0.2\"><span class=\"toc-item-num\">7.0.0.2&nbsp;&nbsp;</span>Our second algorithm is is DecisionTreeClassifier</a></span></li><li><span><a href=\"#We'll-create-another-DecisionTreeClassifier-model-with-max_depth=5.\" data-toc-modified-id=\"We'll-create-another-DecisionTreeClassifier-model-with-max_depth=5.-7.0.0.3\"><span class=\"toc-item-num\">7.0.0.3&nbsp;&nbsp;</span>We'll create another DecisionTreeClassifier model with max_depth=5.</a></span></li></ul></li></ul></li></ul></li><li><span><a href=\"#Bonus-Challenge---Feature-Scaling\" data-toc-modified-id=\"Bonus-Challenge---Feature-Scaling-8\"><span class=\"toc-item-num\">8&nbsp;&nbsp;</span>Bonus Challenge - Feature Scaling</a></span></li></ul></div>"
   ]
  },
  {
   "cell_type": "markdown",
   "metadata": {},
   "source": [
    "# Before your start:\n",
    "- Read the README.md file\n",
    "- Comment as much as you can and use the resources in the README.md file\n",
    "- Happy learning!"
   ]
  },
  {
   "cell_type": "code",
   "execution_count": 1,
   "metadata": {},
   "outputs": [],
   "source": [
    "# Import your libraries:\n",
    "\n",
    "%matplotlib inline\n",
    "\n",
    "import numpy as np\n",
    "import pandas as pd"
   ]
  },
  {
   "cell_type": "markdown",
   "metadata": {},
   "source": [
    "In this lab, we will explore a dataset that describes websites with different features and labels them either benign or malicious . We will use supervised learning algorithms to figure out what feature patterns malicious websites are likely to have and use our model to predict malicious websites.\n",
    "\n",
    "Your features will be:\n",
    "\n",
    "+ URL: it is the anonymous identification of the URL analyzed in the study\n",
    "+ URL_LENGTH: it is the number of characters in the URL\n",
    "+ NUMBER_SPECIAL_CHARACTERS: it is number of special characters identified in the URL, such as, “/”, “%”, “#”, “&”, “. “, “=”\n",
    "+ CHARSET: it is a categorical value and its meaning is the character encoding standard (also called character set).\n",
    "+ SERVER: it is a categorical value and its meaning is the operative system of the server got from the packet response.\n",
    "+ CONTENT_LENGTH: it represents the content size of the HTTP header.\n",
    "+ WHOIS_COUNTRY: it is a categorical variable, its values are the countries we got from the server response (specifically, our script used the API of Whois).\n",
    "+ WHOIS_STATEPRO: it is a categorical variable, its values are the states we got from the server response (specifically, our script used the API of Whois).\n",
    "+ WHOIS_REGDATE: Whois provides the server registration date, so, this variable has date values with format DD/MM/YYY HH:MM\n",
    "+ WHOIS_UPDATED_DATE: Through the Whois we got the last update date from the server analyzed\n",
    "+ TCP_CONVERSATION_EXCHANGE: This variable is the number of TCP packets exchanged between the server and our honeypot client\n",
    "+ DIST_REMOTE_TCP_PORT: it is the number of the ports detected and different to TCP\n",
    "+ REMOTE_IPS: this variable has the total number of IPs connected to the honeypot\n",
    "+ APP_BYTES: this is the number of bytes transfered\n",
    "+ SOURCE_APP_PACKETS: packets sent from the honeypot to the server\n",
    "+ REMOTE_APP_PACKETS: packets received from the server\n",
    "+ APP_PACKETS: this is the total number of IP packets generated during the communication between the honeypot and the server\n",
    "+ DNS_QUERY_TIMES: this is the number of DNS packets generated during the communication between the honeypot and the server\n",
    "+ TYPE: this is a categorical variable, its values represent the type of web page analyzed, specifically, 1 is for malicious websites and 0 is for benign websites\n",
    "\n",
    "# Challenge 1 - Explore The Dataset\n",
    "\n",
    "Let's start by exploring the dataset. First load the data file:\n",
    "\n",
    "\n",
    "*Source: [kaggle](https://www.kaggle.com/viratkothari/malicious-and-benign-websites-classification)*"
   ]
  },
  {
   "cell_type": "code",
   "execution_count": 2,
   "metadata": {},
   "outputs": [],
   "source": [
    "websites = pd.read_csv('../website.csv')"
   ]
  },
  {
   "cell_type": "markdown",
   "metadata": {},
   "source": [
    "#### Explore the data from an bird's-eye view.\n",
    "\n",
    "You should already been very familiar with the procedures now so we won't provide the instructions step by step. Reflect on what you did in the previous labs and explore the dataset.\n",
    "\n",
    "Things you'll be looking for:\n",
    "\n",
    "* What the dataset looks like?\n",
    "* What are the data types?\n",
    "* Which columns contain the features of the websites?\n",
    "* Which column contains the feature we will predict? What is the code standing for benign vs malicious websites?\n",
    "* Do we need to transform any of the columns from categorical to ordinal values? If so what are these columns?\n",
    "\n",
    "Feel free to add additional cells for your explorations. Make sure to comment what you find out."
   ]
  },
  {
   "cell_type": "code",
   "execution_count": 3,
   "metadata": {},
   "outputs": [
    {
     "name": "stdout",
     "output_type": "stream",
     "text": [
      "Primeras filas del dataset:\n",
      "       URL  URL_LENGTH  NUMBER_SPECIAL_CHARACTERS     CHARSET  \\\n",
      "0   M0_109          16                          7  iso-8859-1   \n",
      "1  B0_2314          16                          6       UTF-8   \n",
      "2   B0_911          16                          6    us-ascii   \n",
      "3   B0_113          17                          6  ISO-8859-1   \n",
      "4   B0_403          17                          6       UTF-8   \n",
      "\n",
      "                  SERVER  CONTENT_LENGTH WHOIS_COUNTRY WHOIS_STATEPRO  \\\n",
      "0                  nginx           263.0           NaN            NaN   \n",
      "1          Apache/2.4.10         15087.0           NaN            NaN   \n",
      "2  Microsoft-HTTPAPI/2.0           324.0           NaN            NaN   \n",
      "3                  nginx           162.0            US             AK   \n",
      "4                    NaN        124140.0            US             TX   \n",
      "\n",
      "      WHOIS_REGDATE WHOIS_UPDATED_DATE  ...  DIST_REMOTE_TCP_PORT  REMOTE_IPS  \\\n",
      "0  10/10/2015 18:21                NaN  ...                     0           2   \n",
      "1               NaN                NaN  ...                     7           4   \n",
      "2               NaN                NaN  ...                     0           0   \n",
      "3    7/10/1997 4:00    12/09/2013 0:45  ...                    22           3   \n",
      "4   12/05/1996 0:00    11/04/2017 0:00  ...                     2           5   \n",
      "\n",
      "   APP_BYTES  SOURCE_APP_PACKETS  REMOTE_APP_PACKETS  SOURCE_APP_BYTES  \\\n",
      "0        700                   9                  10              1153   \n",
      "1       1230                  17                  19              1265   \n",
      "2          0                   0                   0                 0   \n",
      "3       3812                  39                  37             18784   \n",
      "4       4278                  61                  62            129889   \n",
      "\n",
      "   REMOTE_APP_BYTES  APP_PACKETS  DNS_QUERY_TIMES  Type  \n",
      "0               832            9              2.0     1  \n",
      "1              1230           17              0.0     0  \n",
      "2                 0            0              0.0     0  \n",
      "3              4380           39              8.0     0  \n",
      "4              4586           61              4.0     0  \n",
      "\n",
      "[5 rows x 21 columns]\n"
     ]
    }
   ],
   "source": [
    "# What the dataset looks like?\n",
    "print(\"Primeras filas del dataset:\")\n",
    "print(websites.head())"
   ]
  },
  {
   "cell_type": "code",
   "execution_count": 4,
   "metadata": {},
   "outputs": [
    {
     "name": "stdout",
     "output_type": "stream",
     "text": [
      "\n",
      "Información del dataset (tipos de datos y valores nulos):\n",
      "<class 'pandas.core.frame.DataFrame'>\n",
      "RangeIndex: 1781 entries, 0 to 1780\n",
      "Data columns (total 21 columns):\n",
      " #   Column                     Non-Null Count  Dtype  \n",
      "---  ------                     --------------  -----  \n",
      " 0   URL                        1781 non-null   object \n",
      " 1   URL_LENGTH                 1781 non-null   int64  \n",
      " 2   NUMBER_SPECIAL_CHARACTERS  1781 non-null   int64  \n",
      " 3   CHARSET                    1774 non-null   object \n",
      " 4   SERVER                     1605 non-null   object \n",
      " 5   CONTENT_LENGTH             969 non-null    float64\n",
      " 6   WHOIS_COUNTRY              1475 non-null   object \n",
      " 7   WHOIS_STATEPRO             1419 non-null   object \n",
      " 8   WHOIS_REGDATE              1654 non-null   object \n",
      " 9   WHOIS_UPDATED_DATE         1642 non-null   object \n",
      " 10  TCP_CONVERSATION_EXCHANGE  1781 non-null   int64  \n",
      " 11  DIST_REMOTE_TCP_PORT       1781 non-null   int64  \n",
      " 12  REMOTE_IPS                 1781 non-null   int64  \n",
      " 13  APP_BYTES                  1781 non-null   int64  \n",
      " 14  SOURCE_APP_PACKETS         1781 non-null   int64  \n",
      " 15  REMOTE_APP_PACKETS         1781 non-null   int64  \n",
      " 16  SOURCE_APP_BYTES           1781 non-null   int64  \n",
      " 17  REMOTE_APP_BYTES           1781 non-null   int64  \n",
      " 18  APP_PACKETS                1781 non-null   int64  \n",
      " 19  DNS_QUERY_TIMES            1780 non-null   float64\n",
      " 20  Type                       1781 non-null   int64  \n",
      "dtypes: float64(2), int64(12), object(7)\n",
      "memory usage: 292.3+ KB\n",
      "None\n"
     ]
    }
   ],
   "source": [
    "# What are the data types?\n",
    "# Mostrar la información del dataset, incluyendo tipos de datos y valores nulos\n",
    "print(\"\\nInformación del dataset (tipos de datos y valores nulos):\")\n",
    "print(websites.info())\n"
   ]
  },
  {
   "cell_type": "code",
   "execution_count": 6,
   "metadata": {},
   "outputs": [
    {
     "name": "stdout",
     "output_type": "stream",
     "text": [
      "\n",
      "Columnas que contienen las características de los sitios web:\n",
      "Index(['URL', 'URL_LENGTH', 'NUMBER_SPECIAL_CHARACTERS', 'CHARSET', 'SERVER',\n",
      "       'CONTENT_LENGTH', 'WHOIS_COUNTRY', 'WHOIS_STATEPRO', 'WHOIS_REGDATE',\n",
      "       'WHOIS_UPDATED_DATE', 'TCP_CONVERSATION_EXCHANGE',\n",
      "       'DIST_REMOTE_TCP_PORT', 'REMOTE_IPS', 'APP_BYTES', 'SOURCE_APP_PACKETS',\n",
      "       'REMOTE_APP_PACKETS', 'SOURCE_APP_BYTES', 'REMOTE_APP_BYTES',\n",
      "       'APP_PACKETS', 'DNS_QUERY_TIMES'],\n",
      "      dtype='object')\n"
     ]
    }
   ],
   "source": [
    "# Which columns contain the features of the websites?\n",
    "# Excluir la columna de destino ('Type') para identificar las características\n",
    "features = websites.drop(columns=['Type']).columns\n",
    "\n",
    "print(\"\\nColumnas que contienen las características de los sitios web:\")\n",
    "print(features)\n"
   ]
  },
  {
   "cell_type": "code",
   "execution_count": 7,
   "metadata": {},
   "outputs": [
    {
     "name": "stdout",
     "output_type": "stream",
     "text": [
      "\n",
      "Valores únicos en la columna objetivo (TYPE):\n",
      "[1 0]\n",
      "Nota: 0 = Benigno, 1 = Malicioso\n"
     ]
    }
   ],
   "source": [
    "# Which column contains the feature we will predict? What is the code standing for benign vs malicious websites?\n",
    "print(\"\\nValores únicos en la columna objetivo (TYPE):\")\n",
    "print(websites['Type'].unique())\n",
    "print(\"Nota: 0 = Benigno, 1 = Malicioso\")\n"
   ]
  },
  {
   "cell_type": "code",
   "execution_count": 8,
   "metadata": {},
   "outputs": [
    {
     "name": "stdout",
     "output_type": "stream",
     "text": [
      "\n",
      "Columnas categóricas:\n",
      "Index(['URL', 'CHARSET', 'SERVER', 'WHOIS_COUNTRY', 'WHOIS_STATEPRO',\n",
      "       'WHOIS_REGDATE', 'WHOIS_UPDATED_DATE'],\n",
      "      dtype='object')\n",
      "Transformando la columna categórica: URL\n",
      "Transformando la columna categórica: CHARSET\n",
      "Transformando la columna categórica: SERVER\n",
      "Transformando la columna categórica: WHOIS_COUNTRY\n",
      "Transformando la columna categórica: WHOIS_STATEPRO\n",
      "Transformando la columna categórica: WHOIS_REGDATE\n",
      "Transformando la columna categórica: WHOIS_UPDATED_DATE\n",
      "\n",
      "Dataset con columnas categóricas transformadas:\n",
      "    URL  URL_LENGTH  NUMBER_SPECIAL_CHARACTERS  CHARSET  SERVER  \\\n",
      "0  1574          16                          7        3     199   \n",
      "1   796          16                          6        2      61   \n",
      "2  1479          16                          6        4     115   \n",
      "3   132          17                          6        1     199   \n",
      "4   982          17                          6        2     238   \n",
      "\n",
      "   CONTENT_LENGTH  WHOIS_COUNTRY  WHOIS_STATEPRO  WHOIS_REGDATE  \\\n",
      "0           263.0             48             181             59   \n",
      "1         15087.0             48             181            890   \n",
      "2           324.0             48             181            890   \n",
      "3           162.0             41               4            806   \n",
      "4        124140.0             41             136             93   \n",
      "\n",
      "   WHOIS_UPDATED_DATE  ...  DIST_REMOTE_TCP_PORT  REMOTE_IPS  APP_BYTES  \\\n",
      "0                 593  ...                     0           2        700   \n",
      "1                 593  ...                     7           4       1230   \n",
      "2                 593  ...                     0           0          0   \n",
      "3                  68  ...                    22           3       3812   \n",
      "4                  42  ...                     2           5       4278   \n",
      "\n",
      "   SOURCE_APP_PACKETS  REMOTE_APP_PACKETS  SOURCE_APP_BYTES  REMOTE_APP_BYTES  \\\n",
      "0                   9                  10              1153               832   \n",
      "1                  17                  19              1265              1230   \n",
      "2                   0                   0                 0                 0   \n",
      "3                  39                  37             18784              4380   \n",
      "4                  61                  62            129889              4586   \n",
      "\n",
      "   APP_PACKETS  DNS_QUERY_TIMES  Type  \n",
      "0            9              2.0     1  \n",
      "1           17              0.0     0  \n",
      "2            0              0.0     0  \n",
      "3           39              8.0     0  \n",
      "4           61              4.0     0  \n",
      "\n",
      "[5 rows x 21 columns]\n"
     ]
    }
   ],
   "source": [
    "# 0 for bening 1 for maliciuos websites\n",
    "# Identificar columnas categóricas en el dataset\n",
    "categorical_columns = websites.select_dtypes(include=['object']).columns\n",
    "\n",
    "print(\"\\nColumnas categóricas:\")\n",
    "print(categorical_columns)\n",
    "\n",
    "\n"
   ]
  },
  {
   "cell_type": "code",
   "execution_count": 9,
   "metadata": {},
   "outputs": [
    {
     "name": "stdout",
     "output_type": "stream",
     "text": [
      "Transformando la columna categórica: URL\n",
      "Transformando la columna categórica: CHARSET\n",
      "Transformando la columna categórica: SERVER\n",
      "Transformando la columna categórica: WHOIS_COUNTRY\n",
      "Transformando la columna categórica: WHOIS_STATEPRO\n",
      "Transformando la columna categórica: WHOIS_REGDATE\n",
      "Transformando la columna categórica: WHOIS_UPDATED_DATE\n",
      "\n",
      "Dataset con columnas categóricas transformadas:\n",
      "    URL  URL_LENGTH  NUMBER_SPECIAL_CHARACTERS  CHARSET  SERVER  \\\n",
      "0  1574          16                          7        3     199   \n",
      "1   796          16                          6        2      61   \n",
      "2  1479          16                          6        4     115   \n",
      "3   132          17                          6        1     199   \n",
      "4   982          17                          6        2     238   \n",
      "\n",
      "   CONTENT_LENGTH  WHOIS_COUNTRY  WHOIS_STATEPRO  WHOIS_REGDATE  \\\n",
      "0           263.0             48             181             59   \n",
      "1         15087.0             48             181            890   \n",
      "2           324.0             48             181            890   \n",
      "3           162.0             41               4            806   \n",
      "4        124140.0             41             136             93   \n",
      "\n",
      "   WHOIS_UPDATED_DATE  ...  DIST_REMOTE_TCP_PORT  REMOTE_IPS  APP_BYTES  \\\n",
      "0                 593  ...                     0           2        700   \n",
      "1                 593  ...                     7           4       1230   \n",
      "2                 593  ...                     0           0          0   \n",
      "3                  68  ...                    22           3       3812   \n",
      "4                  42  ...                     2           5       4278   \n",
      "\n",
      "   SOURCE_APP_PACKETS  REMOTE_APP_PACKETS  SOURCE_APP_BYTES  REMOTE_APP_BYTES  \\\n",
      "0                   9                  10              1153               832   \n",
      "1                  17                  19              1265              1230   \n",
      "2                   0                   0                 0                 0   \n",
      "3                  39                  37             18784              4380   \n",
      "4                  61                  62            129889              4586   \n",
      "\n",
      "   APP_PACKETS  DNS_QUERY_TIMES  Type  \n",
      "0            9              2.0     1  \n",
      "1           17              0.0     0  \n",
      "2            0              0.0     0  \n",
      "3           39              8.0     0  \n",
      "4           61              4.0     0  \n",
      "\n",
      "[5 rows x 21 columns]\n"
     ]
    }
   ],
   "source": [
    "# Do we need to transform any of the columns from categorical to ordinal values? If so what are these columns?\n",
    "# Transformar columnas categóricas a valores numéricos si es necesario\n",
    "from sklearn.preprocessing import LabelEncoder\n",
    "\n",
    "for column in categorical_columns:\n",
    "    print(f\"Transformando la columna categórica: {column}\")\n",
    "    encoder = LabelEncoder()\n",
    "    websites[column] = encoder.fit_transform(websites[column])\n",
    "\n",
    "print(\"\\nDataset con columnas categóricas transformadas:\")\n",
    "print(websites.head())"
   ]
  },
  {
   "cell_type": "markdown",
   "metadata": {},
   "source": [
    "#### Next, evaluate if the columns in this dataset are strongly correlated.\n",
    "\n",
    "In the Mushroom supervised learning lab we did recently, we mentioned we are concerned if our dataset has strongly correlated columns because if it is the case we need to choose certain ML algorithms instead of others. We need to evaluate this for our dataset now.\n",
    "\n",
    "Luckily, most of the columns in this dataset are ordinal which makes things a lot easier for us. In the next cells below, evaluate the level of collinearity of the data.\n",
    "\n",
    "We provide some general directions for you to consult in order to complete this step:\n",
    "\n",
    "1. You will create a correlation matrix using the numeric columns in the dataset.\n",
    "\n",
    "1. Create a heatmap using `seaborn` to visualize which columns have high collinearity.\n",
    "\n",
    "1. Comment on which columns you might need to remove due to high collinearity."
   ]
  },
  {
   "cell_type": "code",
   "execution_count": 11,
   "metadata": {},
   "outputs": [
    {
     "data": {
      "image/png": "[encoded data removed]",
      "text/plain": [
       "<Figure size 1200x1000 with 2 Axes>"
      ]
     },
     "metadata": {},
     "output_type": "display_data"
    },
    {
     "name": "stdout",
     "output_type": "stream",
     "text": [
      "\n",
      "Columnas con alta colinealidad:\n",
      "                           URL_LENGTH  NUMBER_SPECIAL_CHARACTERS  \\\n",
      "URL_LENGTH                        NaN                   0.917986   \n",
      "NUMBER_SPECIAL_CHARACTERS    0.917986                        NaN   \n",
      "TCP_CONVERSATION_EXCHANGE         NaN                        NaN   \n",
      "APP_BYTES                         NaN                        NaN   \n",
      "SOURCE_APP_PACKETS                NaN                        NaN   \n",
      "REMOTE_APP_PACKETS                NaN                        NaN   \n",
      "SOURCE_APP_BYTES                  NaN                        NaN   \n",
      "REMOTE_APP_BYTES                  NaN                        NaN   \n",
      "APP_PACKETS                       NaN                        NaN   \n",
      "\n",
      "                           TCP_CONVERSATION_EXCHANGE  APP_BYTES  \\\n",
      "URL_LENGTH                                       NaN        NaN   \n",
      "NUMBER_SPECIAL_CHARACTERS                        NaN        NaN   \n",
      "TCP_CONVERSATION_EXCHANGE                        NaN        NaN   \n",
      "APP_BYTES                                        NaN        NaN   \n",
      "SOURCE_APP_PACKETS                          0.997796        NaN   \n",
      "REMOTE_APP_PACKETS                          0.990848        NaN   \n",
      "SOURCE_APP_BYTES                            0.865580        NaN   \n",
      "REMOTE_APP_BYTES                                 NaN   0.999992   \n",
      "APP_PACKETS                                 0.997796        NaN   \n",
      "\n",
      "                           SOURCE_APP_PACKETS  REMOTE_APP_PACKETS  \\\n",
      "URL_LENGTH                                NaN                 NaN   \n",
      "NUMBER_SPECIAL_CHARACTERS                 NaN                 NaN   \n",
      "TCP_CONVERSATION_EXCHANGE            0.997796            0.990848   \n",
      "APP_BYTES                                 NaN                 NaN   \n",
      "SOURCE_APP_PACKETS                        NaN            0.989285   \n",
      "REMOTE_APP_PACKETS                   0.989285                 NaN   \n",
      "SOURCE_APP_BYTES                     0.857495            0.880555   \n",
      "REMOTE_APP_BYTES                          NaN                 NaN   \n",
      "APP_PACKETS                               NaN            0.989285   \n",
      "\n",
      "                           SOURCE_APP_BYTES  REMOTE_APP_BYTES  APP_PACKETS  \n",
      "URL_LENGTH                              NaN               NaN          NaN  \n",
      "NUMBER_SPECIAL_CHARACTERS               NaN               NaN          NaN  \n",
      "TCP_CONVERSATION_EXCHANGE          0.865580               NaN     0.997796  \n",
      "APP_BYTES                               NaN          0.999992          NaN  \n",
      "SOURCE_APP_PACKETS                 0.857495               NaN          NaN  \n",
      "REMOTE_APP_PACKETS                 0.880555               NaN     0.989285  \n",
      "SOURCE_APP_BYTES                        NaN               NaN     0.857495  \n",
      "REMOTE_APP_BYTES                        NaN               NaN          NaN  \n",
      "APP_PACKETS                        0.857495               NaN          NaN  \n"
     ]
    }
   ],
   "source": [
    "import pandas as pd\n",
    "import seaborn as sns\n",
    "import matplotlib.pyplot as plt\n",
    "\n",
    "# Cargar el dataset\n",
    "websites = pd.read_csv('../website.csv')\n",
    "\n",
    "# 1. Crear una matriz de correlación usando solo las columnas numéricas\n",
    "numeric_websites = websites.select_dtypes(include=[float, int])\n",
    "correlation_matrix = numeric_websites.corr()\n",
    "\n",
    "# 2. Crear un heatmap para visualizar la matriz de correlación\n",
    "plt.figure(figsize=(12, 10))\n",
    "sns.heatmap(correlation_matrix, annot=True, fmt=\".2f\", cmap=\"coolwarm\", cbar=True)\n",
    "plt.title(\"Heatmap de la Matriz de Correlación\")\n",
    "plt.show()\n",
    "\n",
    "# 3. Analizar columnas con alta colinealidad (valores cercanos a 1 o -1 en la matriz de correlación)\n",
    "high_correlation = correlation_matrix[(correlation_matrix > 0.8) & (correlation_matrix < 1.0)]\n",
    "print(\"\\nColumnas con alta colinealidad:\")\n",
    "print(high_correlation.dropna(how=\"all\", axis=0).dropna(how=\"all\", axis=1))\n"
   ]
  },
  {
   "cell_type": "markdown",
   "metadata": {},
   "source": [
    "### This is an example to know the feacture importance using a ML model"
   ]
  },
  {
   "cell_type": "code",
   "execution_count": 12,
   "metadata": {},
   "outputs": [
    {
     "name": "stdout",
     "output_type": "stream",
     "text": [
      "Collecting xgboost\n",
      "  Downloading xgboost-2.1.3-py3-none-win_amd64.whl.metadata (2.1 kB)\n",
      "Requirement already satisfied: numpy in c:\\users\\matel\\anaconda3\\lib\\site-packages (from xgboost) (1.26.4)\n",
      "Requirement already satisfied: scipy in c:\\users\\matel\\anaconda3\\lib\\site-packages (from xgboost) (1.13.1)\n",
      "Downloading xgboost-2.1.3-py3-none-win_amd64.whl (124.9 MB)\n",
      "   ---------------------------------------- 0.0/124.9 MB ? eta -:--:--\n",
      "   ---------------------------------------- 1.3/124.9 MB 13.4 MB/s eta 0:00:10\n",
      "   ------ --------------------------------- 19.7/124.9 MB 65.3 MB/s eta 0:00:02\n",
      "   --------- ------------------------------ 28.3/124.9 MB 59.8 MB/s eta 0:00:02\n",
      "   ---------- ----------------------------- 33.6/124.9 MB 47.4 MB/s eta 0:00:02\n",
      "   -------------- ------------------------- 43.8/124.9 MB 48.0 MB/s eta 0:00:02\n",
      "   ------------------- -------------------- 60.6/124.9 MB 54.4 MB/s eta 0:00:02\n",
      "   ----------------------- ---------------- 74.7/124.9 MB 56.7 MB/s eta 0:00:01\n",
      "   --------------------------- ------------ 86.0/124.9 MB 57.1 MB/s eta 0:00:01\n",
      "   ------------------------------ --------- 95.7/124.9 MB 55.5 MB/s eta 0:00:01\n",
      "   --------------------------------- ----- 107.0/124.9 MB 55.5 MB/s eta 0:00:01\n",
      "   ------------------------------------ -- 118.2/124.9 MB 55.5 MB/s eta 0:00:01\n",
      "   --------------------------------------  124.8/124.9 MB 55.3 MB/s eta 0:00:01\n",
      "   --------------------------------------  124.8/124.9 MB 55.3 MB/s eta 0:00:01\n",
      "   --------------------------------------- 124.9/124.9 MB 46.9 MB/s eta 0:00:00\n",
      "Installing collected packages: xgboost\n",
      "Successfully installed xgboost-2.1.3\n"
     ]
    }
   ],
   "source": [
    "! pip install xgboost"
   ]
  },
  {
   "cell_type": "code",
   "execution_count": 13,
   "metadata": {},
   "outputs": [],
   "source": [
    "X = websites._get_numeric_data().drop('Type', axis=1)\n",
    "y = websites.Type"
   ]
  },
  {
   "cell_type": "code",
   "execution_count": 15,
   "metadata": {},
   "outputs": [
    {
     "data": {
      "text/html": [
       "<style>#sk-container-id-1 {\n",
       "  /* Definition of color scheme common for light and dark mode */\n",
       "  --sklearn-color-text: black;\n",
       "  --sklearn-color-line: gray;\n",
       "  /* Definition of color scheme for unfitted estimators */\n",
       "  --sklearn-color-unfitted-level-0: #fff5e6;\n",
       "  --sklearn-color-unfitted-level-1: #f6e4d2;\n",
       "  --sklearn-color-unfitted-level-2: #ffe0b3;\n",
       "  --sklearn-color-unfitted-level-3: chocolate;\n",
       "  /* Definition of color scheme for fitted estimators */\n",
       "  --sklearn-color-fitted-level-0: #f0f8ff;\n",
       "  --sklearn-color-fitted-level-1: #d4ebff;\n",
       "  --sklearn-color-fitted-level-2: #b3dbfd;\n",
       "  --sklearn-color-fitted-level-3: cornflowerblue;\n",
       "\n",
       "  /* Specific color for light theme */\n",
       "  --sklearn-color-text-on-default-background: var(--sg-text-color, var(--theme-code-foreground, var(--jp-content-font-color1, black)));\n",
       "  --sklearn-color-background: var(--sg-background-color, var(--theme-background, var(--jp-layout-color0, white)));\n",
       "  --sklearn-color-border-box: var(--sg-text-color, var(--theme-code-foreground, var(--jp-content-font-color1, black)));\n",
       "  --sklearn-color-icon: #696969;\n",
       "\n",
       "  @media (prefers-color-scheme: dark) {\n",
       "    /* Redefinition of color scheme for dark theme */\n",
       "    --sklearn-color-text-on-default-background: var(--sg-text-color, var(--theme-code-foreground, var(--jp-content-font-color1, white)));\n",
       "    --sklearn-color-background: var(--sg-background-color, var(--theme-background, var(--jp-layout-color0, #111)));\n",
       "    --sklearn-color-border-box: var(--sg-text-color, var(--theme-code-foreground, var(--jp-content-font-color1, white)));\n",
       "    --sklearn-color-icon: #878787;\n",
       "  }\n",
       "}\n",
       "\n",
       "#sk-container-id-1 {\n",
       "  color: var(--sklearn-color-text);\n",
       "}\n",
       "\n",
       "#sk-container-id-1 pre {\n",
       "  padding: 0;\n",
       "}\n",
       "\n",
       "#sk-container-id-1 input.sk-hidden--visually {\n",
       "  border: 0;\n",
       "  clip: rect(1px 1px 1px 1px);\n",
       "  clip: rect(1px, 1px, 1px, 1px);\n",
       "  height: 1px;\n",
       "  margin: -1px;\n",
       "  overflow: hidden;\n",
       "  padding: 0;\n",
       "  position: absolute;\n",
       "  width: 1px;\n",
       "}\n",
       "\n",
       "#sk-container-id-1 div.sk-dashed-wrapped {\n",
       "  border: 1px dashed var(--sklearn-color-line);\n",
       "  margin: 0 0.4em 0.5em 0.4em;\n",
       "  box-sizing: border-box;\n",
       "  padding-bottom: 0.4em;\n",
       "  background-color: var(--sklearn-color-background);\n",
       "}\n",
       "\n",
       "#sk-container-id-1 div.sk-container {\n",
       "  /* jupyter's `normalize.less` sets `[hidden] { display: none; }`\n",
       "     but bootstrap.min.css set `[hidden] { display: none !important; }`\n",
       "     so we also need the `!important` here to be able to override the\n",
       "     default hidden behavior on the sphinx rendered scikit-learn.org.\n",
       "     See: https://github.com/scikit-learn/scikit-learn/issues/21755 */\n",
       "  display: inline-block !important;\n",
       "  position: relative;\n",
       "}\n",
       "\n",
       "#sk-container-id-1 div.sk-text-repr-fallback {\n",
       "  display: none;\n",
       "}\n",
       "\n",
       "div.sk-parallel-item,\n",
       "div.sk-serial,\n",
       "div.sk-item {\n",
       "  /* draw centered vertical line to link estimators */\n",
       "  background-image: linear-gradient(var(--sklearn-color-text-on-default-background), var(--sklearn-color-text-on-default-background));\n",
       "  background-size: 2px 100%;\n",
       "  background-repeat: no-repeat;\n",
       "  background-position: center center;\n",
       "}\n",
       "\n",
       "/* Parallel-specific style estimator block */\n",
       "\n",
       "#sk-container-id-1 div.sk-parallel-item::after {\n",
       "  content: \"\";\n",
       "  width: 100%;\n",
       "  border-bottom: 2px solid var(--sklearn-color-text-on-default-background);\n",
       "  flex-grow: 1;\n",
       "}\n",
       "\n",
       "#sk-container-id-1 div.sk-parallel {\n",
       "  display: flex;\n",
       "  align-items: stretch;\n",
       "  justify-content: center;\n",
       "  background-color: var(--sklearn-color-background);\n",
       "  position: relative;\n",
       "}\n",
       "\n",
       "#sk-container-id-1 div.sk-parallel-item {\n",
       "  display: flex;\n",
       "  flex-direction: column;\n",
       "}\n",
       "\n",
       "#sk-container-id-1 div.sk-parallel-item:first-child::after {\n",
       "  align-self: flex-end;\n",
       "  width: 50%;\n",
       "}\n",
       "\n",
       "#sk-container-id-1 div.sk-parallel-item:last-child::after {\n",
       "  align-self: flex-start;\n",
       "  width: 50%;\n",
       "}\n",
       "\n",
       "#sk-container-id-1 div.sk-parallel-item:only-child::after {\n",
       "  width: 0;\n",
       "}\n",
       "\n",
       "/* Serial-specific style estimator block */\n",
       "\n",
       "#sk-container-id-1 div.sk-serial {\n",
       "  display: flex;\n",
       "  flex-direction: column;\n",
       "  align-items: center;\n",
       "  background-color: var(--sklearn-color-background);\n",
       "  padding-right: 1em;\n",
       "  padding-left: 1em;\n",
       "}\n",
       "\n",
       "\n",
       "/* Toggleable style: style used for estimator/Pipeline/ColumnTransformer box that is\n",
       "clickable and can be expanded/collapsed.\n",
       "- Pipeline and ColumnTransformer use this feature and define the default style\n",
       "- Estimators will overwrite some part of the style using the `sk-estimator` class\n",
       "*/\n",
       "\n",
       "/* Pipeline and ColumnTransformer style (default) */\n",
       "\n",
       "#sk-container-id-1 div.sk-toggleable {\n",
       "  /* Default theme specific background. It is overwritten whether we have a\n",
       "  specific estimator or a Pipeline/ColumnTransformer */\n",
       "  background-color: var(--sklearn-color-background);\n",
       "}\n",
       "\n",
       "/* Toggleable label */\n",
       "#sk-container-id-1 label.sk-toggleable__label {\n",
       "  cursor: pointer;\n",
       "  display: block;\n",
       "  width: 100%;\n",
       "  margin-bottom: 0;\n",
       "  padding: 0.5em;\n",
       "  box-sizing: border-box;\n",
       "  text-align: center;\n",
       "}\n",
       "\n",
       "#sk-container-id-1 label.sk-toggleable__label-arrow:before {\n",
       "  /* Arrow on the left of the label */\n",
       "  content: \"▸\";\n",
       "  float: left;\n",
       "  margin-right: 0.25em;\n",
       "  color: var(--sklearn-color-icon);\n",
       "}\n",
       "\n",
       "#sk-container-id-1 label.sk-toggleable__label-arrow:hover:before {\n",
       "  color: var(--sklearn-color-text);\n",
       "}\n",
       "\n",
       "/* Toggleable content - dropdown */\n",
       "\n",
       "#sk-container-id-1 div.sk-toggleable__content {\n",
       "  max-height: 0;\n",
       "  max-width: 0;\n",
       "  overflow: hidden;\n",
       "  text-align: left;\n",
       "  /* unfitted */\n",
       "  background-color: var(--sklearn-color-unfitted-level-0);\n",
       "}\n",
       "\n",
       "#sk-container-id-1 div.sk-toggleable__content.fitted {\n",
       "  /* fitted */\n",
       "  background-color: var(--sklearn-color-fitted-level-0);\n",
       "}\n",
       "\n",
       "#sk-container-id-1 div.sk-toggleable__content pre {\n",
       "  margin: 0.2em;\n",
       "  border-radius: 0.25em;\n",
       "  color: var(--sklearn-color-text);\n",
       "  /* unfitted */\n",
       "  background-color: var(--sklearn-color-unfitted-level-0);\n",
       "}\n",
       "\n",
       "#sk-container-id-1 div.sk-toggleable__content.fitted pre {\n",
       "  /* unfitted */\n",
       "  background-color: var(--sklearn-color-fitted-level-0);\n",
       "}\n",
       "\n",
       "#sk-container-id-1 input.sk-toggleable__control:checked~div.sk-toggleable__content {\n",
       "  /* Expand drop-down */\n",
       "  max-height: 200px;\n",
       "  max-width: 100%;\n",
       "  overflow: auto;\n",
       "}\n",
       "\n",
       "#sk-container-id-1 input.sk-toggleable__control:checked~label.sk-toggleable__label-arrow:before {\n",
       "  content: \"▾\";\n",
       "}\n",
       "\n",
       "/* Pipeline/ColumnTransformer-specific style */\n",
       "\n",
       "#sk-container-id-1 div.sk-label input.sk-toggleable__control:checked~label.sk-toggleable__label {\n",
       "  color: var(--sklearn-color-text);\n",
       "  background-color: var(--sklearn-color-unfitted-level-2);\n",
       "}\n",
       "\n",
       "#sk-container-id-1 div.sk-label.fitted input.sk-toggleable__control:checked~label.sk-toggleable__label {\n",
       "  background-color: var(--sklearn-color-fitted-level-2);\n",
       "}\n",
       "\n",
       "/* Estimator-specific style */\n",
       "\n",
       "/* Colorize estimator box */\n",
       "#sk-container-id-1 div.sk-estimator input.sk-toggleable__control:checked~label.sk-toggleable__label {\n",
       "  /* unfitted */\n",
       "  background-color: var(--sklearn-color-unfitted-level-2);\n",
       "}\n",
       "\n",
       "#sk-container-id-1 div.sk-estimator.fitted input.sk-toggleable__control:checked~label.sk-toggleable__label {\n",
       "  /* fitted */\n",
       "  background-color: var(--sklearn-color-fitted-level-2);\n",
       "}\n",
       "\n",
       "#sk-container-id-1 div.sk-label label.sk-toggleable__label,\n",
       "#sk-container-id-1 div.sk-label label {\n",
       "  /* The background is the default theme color */\n",
       "  color: var(--sklearn-color-text-on-default-background);\n",
       "}\n",
       "\n",
       "/* On hover, darken the color of the background */\n",
       "#sk-container-id-1 div.sk-label:hover label.sk-toggleable__label {\n",
       "  color: var(--sklearn-color-text);\n",
       "  background-color: var(--sklearn-color-unfitted-level-2);\n",
       "}\n",
       "\n",
       "/* Label box, darken color on hover, fitted */\n",
       "#sk-container-id-1 div.sk-label.fitted:hover label.sk-toggleable__label.fitted {\n",
       "  color: var(--sklearn-color-text);\n",
       "  background-color: var(--sklearn-color-fitted-level-2);\n",
       "}\n",
       "\n",
       "/* Estimator label */\n",
       "\n",
       "#sk-container-id-1 div.sk-label label {\n",
       "  font-family: monospace;\n",
       "  font-weight: bold;\n",
       "  display: inline-block;\n",
       "  line-height: 1.2em;\n",
       "}\n",
       "\n",
       "#sk-container-id-1 div.sk-label-container {\n",
       "  text-align: center;\n",
       "}\n",
       "\n",
       "/* Estimator-specific */\n",
       "#sk-container-id-1 div.sk-estimator {\n",
       "  font-family: monospace;\n",
       "  border: 1px dotted var(--sklearn-color-border-box);\n",
       "  border-radius: 0.25em;\n",
       "  box-sizing: border-box;\n",
       "  margin-bottom: 0.5em;\n",
       "  /* unfitted */\n",
       "  background-color: var(--sklearn-color-unfitted-level-0);\n",
       "}\n",
       "\n",
       "#sk-container-id-1 div.sk-estimator.fitted {\n",
       "  /* fitted */\n",
       "  background-color: var(--sklearn-color-fitted-level-0);\n",
       "}\n",
       "\n",
       "/* on hover */\n",
       "#sk-container-id-1 div.sk-estimator:hover {\n",
       "  /* unfitted */\n",
       "  background-color: var(--sklearn-color-unfitted-level-2);\n",
       "}\n",
       "\n",
       "#sk-container-id-1 div.sk-estimator.fitted:hover {\n",
       "  /* fitted */\n",
       "  background-color: var(--sklearn-color-fitted-level-2);\n",
       "}\n",
       "\n",
       "/* Specification for estimator info (e.g. \"i\" and \"?\") */\n",
       "\n",
       "/* Common style for \"i\" and \"?\" */\n",
       "\n",
       ".sk-estimator-doc-link,\n",
       "a:link.sk-estimator-doc-link,\n",
       "a:visited.sk-estimator-doc-link {\n",
       "  float: right;\n",
       "  font-size: smaller;\n",
       "  line-height: 1em;\n",
       "  font-family: monospace;\n",
       "  background-color: var(--sklearn-color-background);\n",
       "  border-radius: 1em;\n",
       "  height: 1em;\n",
       "  width: 1em;\n",
       "  text-decoration: none !important;\n",
       "  margin-left: 1ex;\n",
       "  /* unfitted */\n",
       "  border: var(--sklearn-color-unfitted-level-1) 1pt solid;\n",
       "  color: var(--sklearn-color-unfitted-level-1);\n",
       "}\n",
       "\n",
       ".sk-estimator-doc-link.fitted,\n",
       "a:link.sk-estimator-doc-link.fitted,\n",
       "a:visited.sk-estimator-doc-link.fitted {\n",
       "  /* fitted */\n",
       "  border: var(--sklearn-color-fitted-level-1) 1pt solid;\n",
       "  color: var(--sklearn-color-fitted-level-1);\n",
       "}\n",
       "\n",
       "/* On hover */\n",
       "div.sk-estimator:hover .sk-estimator-doc-link:hover,\n",
       ".sk-estimator-doc-link:hover,\n",
       "div.sk-label-container:hover .sk-estimator-doc-link:hover,\n",
       ".sk-estimator-doc-link:hover {\n",
       "  /* unfitted */\n",
       "  background-color: var(--sklearn-color-unfitted-level-3);\n",
       "  color: var(--sklearn-color-background);\n",
       "  text-decoration: none;\n",
       "}\n",
       "\n",
       "div.sk-estimator.fitted:hover .sk-estimator-doc-link.fitted:hover,\n",
       ".sk-estimator-doc-link.fitted:hover,\n",
       "div.sk-label-container:hover .sk-estimator-doc-link.fitted:hover,\n",
       ".sk-estimator-doc-link.fitted:hover {\n",
       "  /* fitted */\n",
       "  background-color: var(--sklearn-color-fitted-level-3);\n",
       "  color: var(--sklearn-color-background);\n",
       "  text-decoration: none;\n",
       "}\n",
       "\n",
       "/* Span, style for the box shown on hovering the info icon */\n",
       ".sk-estimator-doc-link span {\n",
       "  display: none;\n",
       "  z-index: 9999;\n",
       "  position: relative;\n",
       "  font-weight: normal;\n",
       "  right: .2ex;\n",
       "  padding: .5ex;\n",
       "  margin: .5ex;\n",
       "  width: min-content;\n",
       "  min-width: 20ex;\n",
       "  max-width: 50ex;\n",
       "  color: var(--sklearn-color-text);\n",
       "  box-shadow: 2pt 2pt 4pt #999;\n",
       "  /* unfitted */\n",
       "  background: var(--sklearn-color-unfitted-level-0);\n",
       "  border: .5pt solid var(--sklearn-color-unfitted-level-3);\n",
       "}\n",
       "\n",
       ".sk-estimator-doc-link.fitted span {\n",
       "  /* fitted */\n",
       "  background: var(--sklearn-color-fitted-level-0);\n",
       "  border: var(--sklearn-color-fitted-level-3);\n",
       "}\n",
       "\n",
       ".sk-estimator-doc-link:hover span {\n",
       "  display: block;\n",
       "}\n",
       "\n",
       "/* \"?\"-specific style due to the `<a>` HTML tag */\n",
       "\n",
       "#sk-container-id-1 a.estimator_doc_link {\n",
       "  float: right;\n",
       "  font-size: 1rem;\n",
       "  line-height: 1em;\n",
       "  font-family: monospace;\n",
       "  background-color: var(--sklearn-color-background);\n",
       "  border-radius: 1rem;\n",
       "  height: 1rem;\n",
       "  width: 1rem;\n",
       "  text-decoration: none;\n",
       "  /* unfitted */\n",
       "  color: var(--sklearn-color-unfitted-level-1);\n",
       "  border: var(--sklearn-color-unfitted-level-1) 1pt solid;\n",
       "}\n",
       "\n",
       "#sk-container-id-1 a.estimator_doc_link.fitted {\n",
       "  /* fitted */\n",
       "  border: var(--sklearn-color-fitted-level-1) 1pt solid;\n",
       "  color: var(--sklearn-color-fitted-level-1);\n",
       "}\n",
       "\n",
       "/* On hover */\n",
       "#sk-container-id-1 a.estimator_doc_link:hover {\n",
       "  /* unfitted */\n",
       "  background-color: var(--sklearn-color-unfitted-level-3);\n",
       "  color: var(--sklearn-color-background);\n",
       "  text-decoration: none;\n",
       "}\n",
       "\n",
       "#sk-container-id-1 a.estimator_doc_link.fitted:hover {\n",
       "  /* fitted */\n",
       "  background-color: var(--sklearn-color-fitted-level-3);\n",
       "}\n",
       "</style><div id=\"sk-container-id-1\" class=\"sk-top-container\"><div class=\"sk-text-repr-fallback\"><pre>XGBClassifier(base_score=None, booster=None, callbacks=None,\n",
       "              colsample_bylevel=None, colsample_bynode=None,\n",
       "              colsample_bytree=None, device=None, early_stopping_rounds=None,\n",
       "              enable_categorical=False, eval_metric=None, feature_types=None,\n",
       "              gamma=None, grow_policy=None, importance_type=None,\n",
       "              interaction_constraints=None, learning_rate=None, max_bin=None,\n",
       "              max_cat_threshold=None, max_cat_to_onehot=None,\n",
       "              max_delta_step=None, max_depth=None, max_leaves=None,\n",
       "              min_child_weight=None, missing=nan, monotone_constraints=None,\n",
       "              multi_strategy=None, n_estimators=None, n_jobs=None,\n",
       "              num_parallel_tree=None, random_state=None, ...)</pre><b>In a Jupyter environment, please rerun this cell to show the HTML representation or trust the notebook. <br />On GitHub, the HTML representation is unable to render, please try loading this page with nbviewer.org.</b></div><div class=\"sk-container\" hidden><div class=\"sk-item\"><div class=\"sk-estimator fitted sk-toggleable\"><input class=\"sk-toggleable__control sk-hidden--visually\" id=\"sk-estimator-id-1\" type=\"checkbox\" checked><label for=\"sk-estimator-id-1\" class=\"sk-toggleable__label fitted sk-toggleable__label-arrow fitted\">&nbsp;XGBClassifier<span class=\"sk-estimator-doc-link fitted\">i<span>Fitted</span></span></label><div class=\"sk-toggleable__content fitted\"><pre>XGBClassifier(base_score=None, booster=None, callbacks=None,\n",
       "              colsample_bylevel=None, colsample_bynode=None,\n",
       "              colsample_bytree=None, device=None, early_stopping_rounds=None,\n",
       "              enable_categorical=False, eval_metric=None, feature_types=None,\n",
       "              gamma=None, grow_policy=None, importance_type=None,\n",
       "              interaction_constraints=None, learning_rate=None, max_bin=None,\n",
       "              max_cat_threshold=None, max_cat_to_onehot=None,\n",
       "              max_delta_step=None, max_depth=None, max_leaves=None,\n",
       "              min_child_weight=None, missing=nan, monotone_constraints=None,\n",
       "              multi_strategy=None, n_estimators=None, n_jobs=None,\n",
       "              num_parallel_tree=None, random_state=None, ...)</pre></div> </div></div></div></div>"
      ],
      "text/plain": [
       "XGBClassifier(base_score=None, booster=None, callbacks=None,\n",
       "              colsample_bylevel=None, colsample_bynode=None,\n",
       "              colsample_bytree=None, device=None, early_stopping_rounds=None,\n",
       "              enable_categorical=False, eval_metric=None, feature_types=None,\n",
       "              gamma=None, grow_policy=None, importance_type=None,\n",
       "              interaction_constraints=None, learning_rate=None, max_bin=None,\n",
       "              max_cat_threshold=None, max_cat_to_onehot=None,\n",
       "              max_delta_step=None, max_depth=None, max_leaves=None,\n",
       "              min_child_weight=None, missing=nan, monotone_constraints=None,\n",
       "              multi_strategy=None, n_estimators=None, n_jobs=None,\n",
       "              num_parallel_tree=None, random_state=None, ...)"
      ]
     },
     "execution_count": 15,
     "metadata": {},
     "output_type": "execute_result"
    }
   ],
   "source": [
    "from xgboost import XGBClassifier\n",
    "\n",
    "# Create an instance of the XGBoost classifier\n",
    "xgb = XGBClassifier()\n",
    "\n",
    "# Fit the model to the data\n",
    "xgb.fit(X, y)"
   ]
  },
  {
   "cell_type": "code",
   "execution_count": 16,
   "metadata": {},
   "outputs": [],
   "source": [
    "sort_idx = xgb.feature_importances_.argsort()"
   ]
  },
  {
   "cell_type": "code",
   "execution_count": 17,
   "metadata": {
    "scrolled": true
   },
   "outputs": [
    {
     "data": {
      "image/png": "[encoded data removed]",
      "text/plain": [
       "<Figure size 640x480 with 1 Axes>"
      ]
     },
     "metadata": {},
     "output_type": "display_data"
    }
   ],
   "source": [
    "plt.barh(X.columns[sort_idx],xgb.feature_importances_[sort_idx])\n",
    "plt.show();"
   ]
  },
  {
   "cell_type": "markdown",
   "metadata": {},
   "source": [
    "    In the previous plot we can see the feactures with lower weight in the dataset."
   ]
  },
  {
   "cell_type": "markdown",
   "metadata": {},
   "source": [
    "# Challenge 2 - Remove Column Collinearity.\n",
    "\n",
    "From the heatmap you created, you should have seen at least 3 columns that can be removed due to high collinearity. Remove these columns from the dataset.\n",
    "\n",
    "Note that you should remove as few columns as you can. You don't have to remove all the columns at once. But instead, try removing one column, then produce the heatmap again to determine if additional columns should be removed. As long as the dataset no longer contains columns that are correlated for over 90%, you can stop. Also, keep in mind when two columns have high collinearity, you only need to remove one of them but not both.\n",
    "\n",
    "In the cells below, remove as few columns as you can to eliminate the high collinearity in the dataset. Make sure to comment on your way so that the instructional team can learn about your thinking process which allows them to give feedback. At the end, print the heatmap again."
   ]
  },
  {
   "cell_type": "code",
   "execution_count": 24,
   "metadata": {},
   "outputs": [
    {
     "name": "stdout",
     "output_type": "stream",
     "text": [
      "Columnas con alta colinealidad:\n",
      "                           URL_LENGTH  NUMBER_SPECIAL_CHARACTERS  \\\n",
      "URL_LENGTH                        NaN                   0.917986   \n",
      "NUMBER_SPECIAL_CHARACTERS    0.917986                        NaN   \n",
      "TCP_CONVERSATION_EXCHANGE         NaN                        NaN   \n",
      "APP_BYTES                         NaN                        NaN   \n",
      "SOURCE_APP_PACKETS                NaN                        NaN   \n",
      "REMOTE_APP_PACKETS                NaN                        NaN   \n",
      "REMOTE_APP_BYTES                  NaN                        NaN   \n",
      "APP_PACKETS                       NaN                        NaN   \n",
      "\n",
      "                           TCP_CONVERSATION_EXCHANGE  APP_BYTES  \\\n",
      "URL_LENGTH                                       NaN        NaN   \n",
      "NUMBER_SPECIAL_CHARACTERS                        NaN        NaN   \n",
      "TCP_CONVERSATION_EXCHANGE                        NaN        NaN   \n",
      "APP_BYTES                                        NaN        NaN   \n",
      "SOURCE_APP_PACKETS                          0.997796        NaN   \n",
      "REMOTE_APP_PACKETS                          0.990848        NaN   \n",
      "REMOTE_APP_BYTES                                 NaN   0.999992   \n",
      "APP_PACKETS                                 0.997796        NaN   \n",
      "\n",
      "                           SOURCE_APP_PACKETS  REMOTE_APP_PACKETS  \\\n",
      "URL_LENGTH                                NaN                 NaN   \n",
      "NUMBER_SPECIAL_CHARACTERS                 NaN                 NaN   \n",
      "TCP_CONVERSATION_EXCHANGE            0.997796            0.990848   \n",
      "APP_BYTES                                 NaN                 NaN   \n",
      "SOURCE_APP_PACKETS                        NaN            0.989285   \n",
      "REMOTE_APP_PACKETS                   0.989285                 NaN   \n",
      "REMOTE_APP_BYTES                          NaN                 NaN   \n",
      "APP_PACKETS                               NaN            0.989285   \n",
      "\n",
      "                           REMOTE_APP_BYTES  APP_PACKETS  \n",
      "URL_LENGTH                              NaN          NaN  \n",
      "NUMBER_SPECIAL_CHARACTERS               NaN          NaN  \n",
      "TCP_CONVERSATION_EXCHANGE               NaN     0.997796  \n",
      "APP_BYTES                          0.999992          NaN  \n",
      "SOURCE_APP_PACKETS                      NaN          NaN  \n",
      "REMOTE_APP_PACKETS                      NaN     0.989285  \n",
      "REMOTE_APP_BYTES                        NaN          NaN  \n",
      "APP_PACKETS                             NaN          NaN  \n"
     ]
    }
   ],
   "source": [
    "# Seleccionar solo las columnas numéricas\n",
    "numeric_websites = websites.select_dtypes(include=[np.number])\n",
    "\n",
    "# Volver a generar la matriz de correlación\n",
    "correlation_matrix = numeric_websites.corr()\n",
    "\n",
    "# Identificar pares de columnas con correlación superior a 0.9 (excepto la diagonal)\n",
    "high_correlation = correlation_matrix[(correlation_matrix > 0.9) & (correlation_matrix < 1.0)]\n",
    "print(\"Columnas con alta colinealidad:\")\n",
    "print(high_correlation.dropna(how='all', axis=0).dropna(how='all', axis=1))\n"
   ]
  },
  {
   "cell_type": "code",
   "execution_count": 29,
   "metadata": {},
   "outputs": [
    {
     "name": "stdout",
     "output_type": "stream",
     "text": [
      "Columnas eliminadas debido a alta colinealidad: ['URL', 'NUMBER_SPECIAL_CHARACTERS', 'TCP_CONVERSATION_EXCHANGE', 'REMOTE_APP_PACKETS', 'APP_PACKETS']\n"
     ]
    }
   ],
   "source": [
    "# Basado en el análisis de alta correlación, selecciona columnas a eliminar\n",
    "columns_to_drop = ['URL', 'NUMBER_SPECIAL_CHARACTERS', 'TCP_CONVERSATION_EXCHANGE', 'REMOTE_APP_PACKETS', 'APP_PACKETS']  # Ajusta según los resultados\n",
    "websites_reduced = websites.drop(columns=columns_to_drop)\n",
    "\n",
    "print(f\"Columnas eliminadas debido a alta colinealidad: {columns_to_drop}\")"
   ]
  },
  {
   "cell_type": "markdown",
   "metadata": {},
   "source": [
    "# Challenge 3 - Handle Missing Values\n",
    "\n",
    "The next step would be handling missing values. **We start by examining the number of missing values in each column, which you will do in the next cell.**"
   ]
  },
  {
   "cell_type": "code",
   "execution_count": 30,
   "metadata": {},
   "outputs": [
    {
     "name": "stdout",
     "output_type": "stream",
     "text": [
      "Valores faltantes por columna:\n",
      "URL                            0\n",
      "URL_LENGTH                     0\n",
      "NUMBER_SPECIAL_CHARACTERS      0\n",
      "CHARSET                        7\n",
      "SERVER                       176\n",
      "CONTENT_LENGTH               812\n",
      "WHOIS_COUNTRY                306\n",
      "WHOIS_STATEPRO               362\n",
      "WHOIS_REGDATE                127\n",
      "WHOIS_UPDATED_DATE           139\n",
      "TCP_CONVERSATION_EXCHANGE      0\n",
      "DIST_REMOTE_TCP_PORT           0\n",
      "REMOTE_IPS                     0\n",
      "APP_BYTES                      0\n",
      "SOURCE_APP_PACKETS             0\n",
      "REMOTE_APP_PACKETS             0\n",
      "SOURCE_APP_BYTES               0\n",
      "REMOTE_APP_BYTES               0\n",
      "APP_PACKETS                    0\n",
      "DNS_QUERY_TIMES                1\n",
      "Type                           0\n",
      "dtype: int64\n"
     ]
    }
   ],
   "source": [
    "# Contar los valores faltantes en cada columna\n",
    "missing_values = websites.isnull().sum()\n",
    "\n",
    "# Mostrar las columnas con sus respectivos valores faltantes\n",
    "print(\"Valores faltantes por columna:\")\n",
    "print(missing_values)\n"
   ]
  },
  {
   "cell_type": "code",
   "execution_count": 31,
   "metadata": {},
   "outputs": [
    {
     "name": "stdout",
     "output_type": "stream",
     "text": [
      "Columnas eliminadas debido a más del 50% de valores faltantes: []\n"
     ]
    }
   ],
   "source": [
    "# Firts we will drop the columns with more than 50% of missing data\n",
    "# Calcular el umbral para eliminar columnas (50% de valores faltantes)\n",
    "threshold = len(websites) * 0.5\n",
    "\n",
    "# Identificar columnas con más del 50% de valores faltantes\n",
    "columns_to_drop = missing_values[missing_values > threshold].index\n",
    "\n",
    "# Eliminar columnas identificadas\n",
    "websites_reduced = websites.drop(columns=columns_to_drop)\n",
    "\n",
    "print(f\"Columnas eliminadas debido a más del 50% de valores faltantes: {columns_to_drop.tolist()}\")\n"
   ]
  },
  {
   "cell_type": "code",
   "execution_count": 32,
   "metadata": {},
   "outputs": [
    {
     "name": "stdout",
     "output_type": "stream",
     "text": [
      "Número de filas después de eliminar valores faltantes: 636\n"
     ]
    }
   ],
   "source": [
    "# Now we will drop the rows with missing data\n",
    "# Eliminar filas con cualquier valor faltante restante\n",
    "websites_cleaned = websites_reduced.dropna()\n",
    "\n",
    "print(f\"Número de filas después de eliminar valores faltantes: {len(websites_cleaned)}\")\n"
   ]
  },
  {
   "cell_type": "markdown",
   "metadata": {},
   "source": [
    "#### Again, examine the number of missing values in each column. \n",
    "\n",
    "    If all cleaned, proceed. Otherwise, go back and do more cleaning."
   ]
  },
  {
   "cell_type": "code",
   "execution_count": 33,
   "metadata": {},
   "outputs": [
    {
     "name": "stdout",
     "output_type": "stream",
     "text": [
      "¿Quedan valores faltantes?\n",
      "URL                          0\n",
      "URL_LENGTH                   0\n",
      "NUMBER_SPECIAL_CHARACTERS    0\n",
      "CHARSET                      0\n",
      "SERVER                       0\n",
      "CONTENT_LENGTH               0\n",
      "WHOIS_COUNTRY                0\n",
      "WHOIS_STATEPRO               0\n",
      "WHOIS_REGDATE                0\n",
      "WHOIS_UPDATED_DATE           0\n",
      "TCP_CONVERSATION_EXCHANGE    0\n",
      "DIST_REMOTE_TCP_PORT         0\n",
      "REMOTE_IPS                   0\n",
      "APP_BYTES                    0\n",
      "SOURCE_APP_PACKETS           0\n",
      "REMOTE_APP_PACKETS           0\n",
      "SOURCE_APP_BYTES             0\n",
      "REMOTE_APP_BYTES             0\n",
      "APP_PACKETS                  0\n",
      "DNS_QUERY_TIMES              0\n",
      "Type                         0\n",
      "dtype: int64\n"
     ]
    }
   ],
   "source": [
    "# Examine missing values in each column\n",
    "# Verificar si aún quedan valores faltantes\n",
    "print(\"¿Quedan valores faltantes?\")\n",
    "print(websites_cleaned.isnull().sum())\n"
   ]
  },
  {
   "cell_type": "markdown",
   "metadata": {},
   "source": [
    "# Challenge 4 - Handle `WHOIS_*` Categorical Data"
   ]
  },
  {
   "cell_type": "markdown",
   "metadata": {},
   "source": [
    "There are several categorical columns we need to handle. These columns are:\n",
    "\n",
    "* `URL`\n",
    "* `CHARSET`\n",
    "* `SERVER`\n",
    "* `WHOIS_COUNTRY`\n",
    "* `WHOIS_STATEPRO`\n",
    "* `WHOIS_REGDATE`\n",
    "* `WHOIS_UPDATED_DATE`\n",
    "\n",
    "How to handle string columns is always case by case. Let's start by working on `WHOIS_COUNTRY`. Your steps are:\n",
    "\n",
    "1. List out the unique values of `WHOIS_COUNTRY`.\n",
    "1. Consolidate the country values with consistent country codes. For example, the following values refer to the same country and should use consistent country code:\n",
    "    * `CY` and `Cyprus`\n",
    "    * `US` and `us`\n",
    "    * `SE` and `se`\n",
    "    * `GB`, `United Kingdom`, and `[u'GB'; u'UK']`\n",
    "\n",
    "#### In the cells below, fix the country values as intructed above."
   ]
  },
  {
   "cell_type": "code",
   "execution_count": 34,
   "metadata": {
    "scrolled": true
   },
   "outputs": [
    {
     "data": {
      "text/plain": [
       "WHOIS_COUNTRY\n",
       "US                1103\n",
       "CA                  84\n",
       "ES                  63\n",
       "AU                  35\n",
       "PA                  21\n",
       "GB                  19\n",
       "JP                  11\n",
       "UK                  10\n",
       "CN                  10\n",
       "IN                  10\n",
       "FR                   9\n",
       "CZ                   9\n",
       "NL                   6\n",
       "CH                   6\n",
       "[u'GB'; u'UK']       5\n",
       "KR                   5\n",
       "PH                   4\n",
       "BS                   4\n",
       "ru                   4\n",
       "AT                   4\n",
       "HK                   3\n",
       "us                   3\n",
       "TR                   3\n",
       "BE                   3\n",
       "DE                   3\n",
       "SC                   3\n",
       "KY                   3\n",
       "SE                   3\n",
       "BR                   2\n",
       "UY                   2\n",
       "Cyprus               2\n",
       "SI                   2\n",
       "UA                   2\n",
       "RU                   2\n",
       "IL                   2\n",
       "NO                   2\n",
       "KG                   2\n",
       "TH                   1\n",
       "se                   1\n",
       "LV                   1\n",
       "LU                   1\n",
       "United Kingdom       1\n",
       "UG                   1\n",
       "PK                   1\n",
       "IT                   1\n",
       "BY                   1\n",
       "AE                   1\n",
       "IE                   1\n",
       "Name: count, dtype: int64"
      ]
     },
     "execution_count": 34,
     "metadata": {},
     "output_type": "execute_result"
    }
   ],
   "source": [
    "websites.WHOIS_COUNTRY.value_counts()"
   ]
  },
  {
   "cell_type": "code",
   "execution_count": 36,
   "metadata": {},
   "outputs": [
    {
     "name": "stdout",
     "output_type": "stream",
     "text": [
      "['Unknown' 'US' 'SC' 'UK' 'RU' 'AU' 'CA' 'PA' 'IN' 'LU' 'TH' 'FR' 'NL'\n",
      " 'UG' 'SE' 'SI' 'IL' 'KY' 'CZ' 'PH' 'NO' 'DE' 'ES' 'BR' 'KR' 'HK' 'UA'\n",
      " 'CH' 'BS' 'PK' 'IT' 'CY' 'BY' 'AE' 'IE' 'UY' 'KG']\n"
     ]
    }
   ],
   "source": [
    "# Crear un diccionario con los valores normalizados\n",
    "good_country = {\n",
    "    'None': 'None',\n",
    "    'US': 'US',\n",
    "    'SC': 'SC',\n",
    "    'GB': 'UK',\n",
    "    'UK': 'UK',\n",
    "    'RU': 'RU',\n",
    "    'AU': 'AU',\n",
    "    'CA': 'CA',\n",
    "    'PA': 'PA',\n",
    "    'Se': 'SE',\n",
    "    'SE': 'SE',\n",
    "    'IN': 'IN',\n",
    "    'LU': 'LU',\n",
    "    'TH': 'TH',\n",
    "    \"u'GB'\": 'UK',\n",
    "    'FR': 'FR',\n",
    "    'NL': 'NL',\n",
    "    'UG': 'UG',\n",
    "    'SN': 'SN',\n",
    "    'IL': 'IL',\n",
    "    'SI': 'SI',\n",
    "    'KY': 'KY',\n",
    "    'CZ': 'CZ',\n",
    "    'PH': 'PH',\n",
    "    'NO': 'NO',\n",
    "    'ID': 'ID',\n",
    "    'DE': 'DE',\n",
    "    'ES': 'ES',\n",
    "    'BR': 'BR',\n",
    "    'KR': 'KR',\n",
    "    'HK': 'HK',\n",
    "    'UA': 'UA',\n",
    "    'CH': 'CH',\n",
    "    'United Kingdom': 'UK',\n",
    "    'BS': 'BS',\n",
    "    'PK': 'PK',\n",
    "    'IT': 'IT',\n",
    "    'Cyprus': 'CY',\n",
    "    'BY': 'BY',\n",
    "    'AE': 'AE',\n",
    "    'IE': 'IE',\n",
    "    'UY': 'UY',\n",
    "    'KG': 'KG'\n",
    "}\n",
    "\n",
    "# Normalizar los valores en la columna WHOIS_COUNTRY\n",
    "websites['WHOIS_COUNTRY'] = websites['WHOIS_COUNTRY'].apply(lambda x: good_country.get(x, 'Unknown'))\n",
    "\n",
    "# Verificar los valores únicos después de la normalización\n",
    "print(websites['WHOIS_COUNTRY'].unique())\n"
   ]
  },
  {
   "cell_type": "code",
   "execution_count": 37,
   "metadata": {},
   "outputs": [
    {
     "data": {
      "text/plain": [
       "array(['Unknown', 'US', 'SC', 'UK', 'RU', 'AU', 'CA', 'PA', 'IN', 'LU',\n",
       "       'TH', 'FR', 'NL', 'UG', 'SE', 'SI', 'IL', 'KY', 'CZ', 'PH', 'NO',\n",
       "       'DE', 'ES', 'BR', 'KR', 'HK', 'UA', 'CH', 'BS', 'PK', 'IT', 'CY',\n",
       "       'BY', 'AE', 'IE', 'UY', 'KG'], dtype=object)"
      ]
     },
     "execution_count": 37,
     "metadata": {},
     "output_type": "execute_result"
    }
   ],
   "source": [
    "websites.WHOIS_COUNTRY.unique()"
   ]
  },
  {
   "cell_type": "markdown",
   "metadata": {},
   "source": [
    "Since we have fixed the country values, can we convert this column to ordinal now?\n",
    "\n",
    "Not yet. If you reflect on the previous labs how we handle categorical columns, you probably remember we ended up dropping a lot of those columns because there are too many unique values. Too many unique values in a column is not desirable in machine learning because it makes prediction inaccurate. But there are workarounds under certain conditions. One of the fixable conditions is:\n",
    "\n",
    "#### If a limited number of values account for the majority of data, we can retain these top values and re-label all other rare values.\n",
    "\n",
    "The `WHOIS_COUNTRY` column happens to be this case. You can verify it by print a bar chart of the `value_counts` in the next cell to verify:"
   ]
  },
  {
   "cell_type": "code",
   "execution_count": 38,
   "metadata": {},
   "outputs": [],
   "source": [
    "def print_bar_plot(x,y):\n",
    "    plt.bar(x, y)\n",
    "    plt.figure(figsize=(15,15))\n",
    "    return plt.show()"
   ]
  },
  {
   "cell_type": "code",
   "execution_count": 39,
   "metadata": {},
   "outputs": [
    {
     "data": {
      "image/png": "[encoded data removed]",
      "text/plain": [
       "<Figure size 640x480 with 1 Axes>"
      ]
     },
     "metadata": {},
     "output_type": "display_data"
    },
    {
     "data": {
      "text/plain": [
       "<Figure size 1500x1500 with 0 Axes>"
      ]
     },
     "metadata": {},
     "output_type": "display_data"
    }
   ],
   "source": [
    "print_bar_plot(websites.WHOIS_COUNTRY.unique(),websites.WHOIS_COUNTRY.value_counts());"
   ]
  },
  {
   "cell_type": "markdown",
   "metadata": {},
   "source": [
    "#### After verifying, now let's keep the top 10 values of the column and re-label other columns with `OTHER`."
   ]
  },
  {
   "cell_type": "code",
   "execution_count": 40,
   "metadata": {},
   "outputs": [
    {
     "name": "stdout",
     "output_type": "stream",
     "text": [
      "Top 10 países:\n",
      "Index(['US', 'Unknown', 'CA', 'ES', 'AU', 'UK', 'PA', 'IN', 'FR', 'CZ'], dtype='object', name='WHOIS_COUNTRY')\n"
     ]
    }
   ],
   "source": [
    "# Obtener los 10 valores más frecuentes en la columna WHOIS_COUNTRY\n",
    "top_10_countries = websites['WHOIS_COUNTRY'].value_counts().nlargest(10).index\n",
    "\n",
    "print(\"Top 10 países:\")\n",
    "print(top_10_countries)\n"
   ]
  },
  {
   "cell_type": "markdown",
   "metadata": {},
   "source": [
    "Now since `WHOIS_COUNTRY` has been re-labelled, we don't need `WHOIS_STATEPRO` any more because the values of the states or provinces may not be relevant any more. We'll drop this column.\n",
    "\n",
    "In addition, we will also drop `WHOIS_REGDATE` and `WHOIS_UPDATED_DATE`. These are the registration and update dates of the website domains. Not of our concerns.\n",
    "\n",
    "#### In the next cell, drop `['WHOIS_STATEPRO', 'WHOIS_REGDATE', 'WHOIS_UPDATED_DATE']`."
   ]
  },
  {
   "cell_type": "code",
   "execution_count": 42,
   "metadata": {},
   "outputs": [
    {
     "name": "stdout",
     "output_type": "stream",
     "text": [
      "\n",
      "Valores únicos en WHOIS_COUNTRY después de la consolidación:\n",
      "['Unknown' 'US' 'OTHER' 'UK' 'AU' 'CA' 'PA' 'IN' 'FR' 'CZ' 'ES']\n"
     ]
    },
    {
     "data": {
      "image/png": "[encoded data removed]",
      "text/plain": [
       "<Figure size 1200x600 with 1 Axes>"
      ]
     },
     "metadata": {},
     "output_type": "display_data"
    }
   ],
   "source": [
    "# Reetiquetar los valores menos frecuentes como 'OTHER'\n",
    "websites['WHOIS_COUNTRY'] = websites['WHOIS_COUNTRY'].apply(\n",
    "    lambda x: x if x in top_10_countries else 'OTHER'\n",
    ")\n",
    "\n",
    "# Verificar los valores únicos después de la reetiquetación\n",
    "print(\"\\nValores únicos en WHOIS_COUNTRY después de la consolidación:\")\n",
    "print(websites['WHOIS_COUNTRY'].unique())\n",
    "import matplotlib.pyplot as plt\n",
    "\n",
    "# Crear un gráfico de barras para los valores consolidados\n",
    "plt.figure(figsize=(12, 6))\n",
    "websites['WHOIS_COUNTRY'].value_counts().plot(kind='bar')\n",
    "plt.title(\"Distribución de países después de consolidar valores menos frecuentes\")\n",
    "plt.xlabel(\"País\")\n",
    "plt.ylabel(\"Frecuencia\")\n",
    "plt.show()\n",
    "\n"
   ]
  },
  {
   "cell_type": "markdown",
   "metadata": {},
   "source": [
    "# Challenge 5 - Handle Remaining Categorical Data & Convert to Ordinal\n",
    "\n",
    "Now print the `dtypes` of the data again. Besides `WHOIS_COUNTRY` which we already fixed, there should be 3 categorical columns left: `URL`, `CHARSET`, and `SERVER`."
   ]
  },
  {
   "cell_type": "code",
   "execution_count": 43,
   "metadata": {},
   "outputs": [
    {
     "name": "stdout",
     "output_type": "stream",
     "text": [
      "Columna 'URL' eliminada.\n"
     ]
    }
   ],
   "source": [
    "websites = websites.drop(columns=['URL'])\n",
    "print(\"Columna 'URL' eliminada.\")\n"
   ]
  },
  {
   "cell_type": "markdown",
   "metadata": {},
   "source": [
    "#### `URL` is easy. We'll simply drop it because it has too many unique values that there's no way for us to consolidate."
   ]
  },
  {
   "cell_type": "code",
   "execution_count": 44,
   "metadata": {},
   "outputs": [
    {
     "name": "stdout",
     "output_type": "stream",
     "text": [
      "Valores únicos en CHARSET:\n",
      "CHARSET\n",
      "UTF-8           676\n",
      "ISO-8859-1      427\n",
      "utf-8           379\n",
      "us-ascii        155\n",
      "iso-8859-1      134\n",
      "windows-1251      1\n",
      "ISO-8859          1\n",
      "windows-1252      1\n",
      "Name: count, dtype: int64\n"
     ]
    }
   ],
   "source": [
    "# Your code here\n",
    "print(\"Valores únicos en CHARSET:\")\n",
    "print(websites['CHARSET'].value_counts())\n"
   ]
  },
  {
   "cell_type": "markdown",
   "metadata": {},
   "source": [
    "#### Print the unique value counts of `CHARSET`. You see there are only a few unique values. So we can keep it as it is."
   ]
  },
  {
   "cell_type": "code",
   "execution_count": 45,
   "metadata": {},
   "outputs": [
    {
     "name": "stdout",
     "output_type": "stream",
     "text": [
      "Valores únicos en SERVER (top 20):\n",
      "SERVER\n",
      "Apache                                                                                       386\n",
      "nginx                                                                                        211\n",
      "Microsoft-HTTPAPI/2.0                                                                        113\n",
      "cloudflare-nginx                                                                              94\n",
      "Microsoft-IIS/7.5                                                                             51\n",
      "GSE                                                                                           49\n",
      "Server                                                                                        49\n",
      "YouTubeFrontEnd                                                                               42\n",
      "nginx/1.12.0                                                                                  36\n",
      "ATS                                                                                           30\n",
      "Apache/2.2.15 (CentOS)                                                                        25\n",
      "Apache-Coyote/1.1                                                                             20\n",
      "Apache/2                                                                                      15\n",
      "Microsoft-IIS/8.5                                                                             15\n",
      "Microsoft-IIS/6.0                                                                             14\n",
      "Apache/2.2.14 (FreeBSD) mod_ssl/2.2.14 OpenSSL/0.9.8y DAV/2 PHP/5.2.12 with Suhosin-Patch     13\n",
      "Apache/2.4.7 (Ubuntu)                                                                         13\n",
      "Apache/2.2.15 (Red Hat)                                                                       12\n",
      "Apache/2.2.22 (Debian)                                                                        12\n",
      "nginx/1.4.6 (Ubuntu)                                                                           9\n",
      "Name: count, dtype: int64\n",
      "\n",
      "Valores únicos en SERVER después de la consolidación:\n",
      "SERVER\n",
      "Other        960\n",
      "Apache       386\n",
      "nginx        305\n",
      "Microsoft     81\n",
      "GSE           49\n",
      "Name: count, dtype: int64\n"
     ]
    }
   ],
   "source": [
    "# Your code here\n",
    "print(\"Valores únicos en SERVER (top 20):\")\n",
    "print(websites['SERVER'].value_counts().head(20))\n",
    "\n",
    "# Consolidar valores comunes en SERVER\n",
    "server_replacements = {\n",
    "    'Apache': 'Apache',\n",
    "    'nginx': 'nginx',\n",
    "    'Microsoft-IIS/7.5': 'Microsoft',\n",
    "    'Microsoft-IIS/8.5': 'Microsoft',\n",
    "    'Microsoft-IIS/6.0': 'Microsoft',\n",
    "    'Microsoft-IIS/8.0': 'Microsoft',\n",
    "    'GSE': 'GSE',\n",
    "    'cloudflare-nginx': 'nginx',\n",
    "    'None': 'Unknown'\n",
    "}\n",
    "\n",
    "websites['SERVER'] = websites['SERVER'].apply(lambda x: server_replacements.get(x, 'Other'))\n",
    "\n",
    "print(\"\\nValores únicos en SERVER después de la consolidación:\")\n",
    "print(websites['SERVER'].value_counts())\n"
   ]
  },
  {
   "cell_type": "markdown",
   "metadata": {},
   "source": [
    "`SERVER` is a little more complicated. Print its unique values and think about how you can consolidate those values.\n",
    "\n",
    "#### Before you think of your own solution, don't read the instructions that come next."
   ]
  },
  {
   "cell_type": "code",
   "execution_count": 46,
   "metadata": {},
   "outputs": [
    {
     "name": "stdout",
     "output_type": "stream",
     "text": [
      "Distribución de los años en WHOIS_UPDATED_YEAR:\n",
      "WHOIS_UPDATED_YEAR\n",
      "2009.0      1\n",
      "2012.0      8\n",
      "2013.0     33\n",
      "2014.0     26\n",
      "2015.0    127\n",
      "2016.0    263\n",
      "2017.0    201\n",
      "Name: count, dtype: int64\n"
     ]
    }
   ],
   "source": [
    "# Convertir WHOIS_UPDATED_DATE a formato datetime\n",
    "websites['WHOIS_UPDATED_DATE'] = pd.to_datetime(websites['WHOIS_UPDATED_DATE'], errors='coerce')\n",
    "\n",
    "# Crear una nueva columna con el año de la última actualización\n",
    "websites['WHOIS_UPDATED_YEAR'] = websites['WHOIS_UPDATED_DATE'].dt.year\n",
    "\n",
    "# Inspeccionar la distribución de años\n",
    "print(\"Distribución de los años en WHOIS_UPDATED_YEAR:\")\n",
    "print(websites['WHOIS_UPDATED_YEAR'].value_counts().sort_index())\n"
   ]
  },
  {
   "cell_type": "markdown",
   "metadata": {},
   "source": [
    "Although there are so many unique values in the `SERVER` column, there are actually only 3 main server types: `Microsoft`, `Apache`, and `nginx`. Just check if each `SERVER` value contains any of those server types and re-label them. For `SERVER` values that don't contain any of those substrings, label with `Other`.\n",
    "\n",
    "At the end, your `SERVER` column should only contain 4 unique values: `Microsoft`, `Apache`, `nginx`, and `Other`."
   ]
  },
  {
   "cell_type": "code",
   "execution_count": 47,
   "metadata": {
    "scrolled": false
   },
   "outputs": [
    {
     "name": "stdout",
     "output_type": "stream",
     "text": [
      "Valores únicos en SERVER después de la consolidación:\n",
      "SERVER\n",
      "Other        1009\n",
      "Apache        386\n",
      "nginx         305\n",
      "Microsoft      81\n",
      "Name: count, dtype: int64\n"
     ]
    }
   ],
   "source": [
    "# Count `SERVER` value counts here\n",
    "# Consolidar los valores principales de SERVER en 'Microsoft', 'Apache', 'nginx' y etiquetar los demás como 'Other'\n",
    "def consolidate_server(value):\n",
    "    if 'Microsoft' in value:\n",
    "        return 'Microsoft'\n",
    "    elif 'Apache' in value:\n",
    "        return 'Apache'\n",
    "    elif 'nginx' in value:\n",
    "        return 'nginx'\n",
    "    else:\n",
    "        return 'Other'\n",
    "\n",
    "# Aplicar la consolidación a la columna SERVER\n",
    "websites['SERVER'] = websites['SERVER'].apply(consolidate_server)\n",
    "\n",
    "# Verificar los valores únicos después de la consolidación\n",
    "print(\"Valores únicos en SERVER después de la consolidación:\")\n",
    "print(websites['SERVER'].value_counts())\n"
   ]
  },
  {
   "cell_type": "markdown",
   "metadata": {},
   "source": [
    "OK, all our categorical data are fixed now. **Let's convert them to ordinal data using Pandas' `get_dummies` function ([documentation](https://pandas.pydata.org/pandas-docs/stable/generated/pandas.get_dummies.html)).** Make sure you drop the categorical columns by passing `drop_first=True` to `get_dummies` as we don't need them any more. **Also, assign the data with dummy values to a new variable `website_dummy`.**"
   ]
  },
  {
   "cell_type": "code",
   "execution_count": 48,
   "metadata": {},
   "outputs": [
    {
     "name": "stdout",
     "output_type": "stream",
     "text": [
      "Columnas después de convertir a variables dummy:\n",
      "<class 'pandas.core.frame.DataFrame'>\n",
      "RangeIndex: 1781 entries, 0 to 1780\n",
      "Columns: 1105 entries, URL_LENGTH to WHOIS_REGDATE_b\n",
      "dtypes: bool(1089), datetime64[ns](1), float64(3), int64(12)\n",
      "memory usage: 2.1 MB\n",
      "None\n"
     ]
    }
   ],
   "source": [
    "# Your code here\n",
    "# Convertir todas las columnas categóricas a variables dummy\n",
    "website_dummy = pd.get_dummies(websites, drop_first=True)\n",
    "\n",
    "# Verificar que las columnas categóricas han sido transformadas\n",
    "print(\"Columnas después de convertir a variables dummy:\")\n",
    "print(website_dummy.info())\n"
   ]
  },
  {
   "cell_type": "markdown",
   "metadata": {},
   "source": [
    "Now, inspect `website_dummy` to make sure the data and types are intended - there shouldn't be any categorical columns at this point."
   ]
  },
  {
   "cell_type": "code",
   "execution_count": 49,
   "metadata": {},
   "outputs": [
    {
     "name": "stdout",
     "output_type": "stream",
     "text": [
      "Primeras filas del dataset después de convertir a variables dummy:\n",
      "   URL_LENGTH  NUMBER_SPECIAL_CHARACTERS  CONTENT_LENGTH  WHOIS_UPDATED_DATE  \\\n",
      "0          16                          7           263.0                 NaT   \n",
      "1          16                          6         15087.0                 NaT   \n",
      "2          16                          6           324.0                 NaT   \n",
      "3          17                          6           162.0 2013-12-09 00:45:00   \n",
      "4          17                          6        124140.0 2017-11-04 00:00:00   \n",
      "\n",
      "   TCP_CONVERSATION_EXCHANGE  DIST_REMOTE_TCP_PORT  REMOTE_IPS  APP_BYTES  \\\n",
      "0                          7                     0           2        700   \n",
      "1                         17                     7           4       1230   \n",
      "2                          0                     0           0          0   \n",
      "3                         31                    22           3       3812   \n",
      "4                         57                     2           5       4278   \n",
      "\n",
      "   SOURCE_APP_PACKETS  REMOTE_APP_PACKETS  ...  WHOIS_REGDATE_9/09/2002 0:00  \\\n",
      "0                   9                  10  ...                         False   \n",
      "1                  17                  19  ...                         False   \n",
      "2                   0                   0  ...                         False   \n",
      "3                  39                  37  ...                         False   \n",
      "4                  61                  62  ...                         False   \n",
      "\n",
      "   WHOIS_REGDATE_9/09/2005 13:44  WHOIS_REGDATE_9/10/2014 0:00  \\\n",
      "0                          False                         False   \n",
      "1                          False                         False   \n",
      "2                          False                         False   \n",
      "3                          False                         False   \n",
      "4                          False                         False   \n",
      "\n",
      "   WHOIS_REGDATE_9/10/2016 17:08  WHOIS_REGDATE_9/12/1996 0:00  \\\n",
      "0                          False                         False   \n",
      "1                          False                         False   \n",
      "2                          False                         False   \n",
      "3                          False                         False   \n",
      "4                          False                         False   \n",
      "\n",
      "   WHOIS_REGDATE_9/12/1998 0:00  WHOIS_REGDATE_9/12/2002 0:00  \\\n",
      "0                         False                         False   \n",
      "1                         False                         False   \n",
      "2                         False                         False   \n",
      "3                         False                         False   \n",
      "4                         False                         False   \n",
      "\n",
      "   WHOIS_REGDATE_9/12/2003 0:00  WHOIS_REGDATE_9/12/2008 0:00  WHOIS_REGDATE_b  \n",
      "0                         False                         False            False  \n",
      "1                         False                         False            False  \n",
      "2                         False                         False            False  \n",
      "3                         False                         False            False  \n",
      "4                         False                         False            False  \n",
      "\n",
      "[5 rows x 1105 columns]\n"
     ]
    }
   ],
   "source": [
    "# Your code here\n",
    "# Inspeccionar las primeras filas del nuevo dataset\n",
    "print(\"Primeras filas del dataset después de convertir a variables dummy:\")\n",
    "print(website_dummy.head())\n"
   ]
  },
  {
   "cell_type": "markdown",
   "metadata": {},
   "source": [
    "# Challenge 6 - Modeling, Prediction, and Evaluation\n",
    "\n",
    "We'll start off this section by splitting the data to train and test. **Name your 4 variables `X_train`, `X_test`, `y_train`, and `y_test`. Select 80% of the data for training and 20% for testing.**"
   ]
  },
  {
   "cell_type": "code",
   "execution_count": 56,
   "metadata": {},
   "outputs": [
    {
     "name": "stdout",
     "output_type": "stream",
     "text": [
      "División completada: X_train, X_test, y_train, y_test creados.\n"
     ]
    }
   ],
   "source": [
    "from sklearn.model_selection import train_test_split\n",
    "\n",
    "# Dividir los datos en características (X) y objetivo (y)\n",
    "X = website_dummy.drop(columns=['Type'])  # Asegúrate de que 'Type' es la columna objetivo\n",
    "y = website_dummy['Type']\n",
    "\n",
    "# Dividir en 80% entrenamiento y 20% prueba\n",
    "X_train, X_test, y_train, y_test = train_test_split(X, y, test_size=0.2, random_state=42)\n",
    "\n",
    "print(\"División completada: X_train, X_test, y_train, y_test creados.\")\n"
   ]
  },
  {
   "cell_type": "markdown",
   "metadata": {},
   "source": [
    "#### In this lab, we will try two different models and compare our results.\n",
    "\n",
    "The first model we will use in this lab is logistic regression. We have previously learned about logistic regression as a classification algorithm. In the cell below, load `LogisticRegression` from scikit-learn and initialize the model."
   ]
  },
  {
   "cell_type": "code",
   "execution_count": 57,
   "metadata": {},
   "outputs": [
    {
     "name": "stdout",
     "output_type": "stream",
     "text": [
      "Modelo de regresión logística inicializado.\n"
     ]
    }
   ],
   "source": [
    "from sklearn.linear_model import LogisticRegression\n",
    "\n",
    "# Inicializar el modelo de regresión logística\n",
    "logistic_model = LogisticRegression(max_iter=1000, random_state=42)\n",
    "\n",
    "print(\"Modelo de regresión logística inicializado.\")\n"
   ]
  },
  {
   "cell_type": "markdown",
   "metadata": {},
   "source": [
    "Next, fit the model to our training data. We have already separated our data into 4 parts. Use those in your model."
   ]
  },
  {
   "cell_type": "code",
   "execution_count": 60,
   "metadata": {},
   "outputs": [
    {
     "name": "stdout",
     "output_type": "stream",
     "text": [
      "Modelo ajustado con los datos de entrenamiento.\n"
     ]
    },
    {
     "name": "stderr",
     "output_type": "stream",
     "text": [
      "c:\\Users\\matel\\anaconda3\\Lib\\site-packages\\sklearn\\linear_model\\_logistic.py:469: ConvergenceWarning: lbfgs failed to converge (status=1):\n",
      "STOP: TOTAL NO. of ITERATIONS REACHED LIMIT.\n",
      "\n",
      "Increase the number of iterations (max_iter) or scale the data as shown in:\n",
      "    https://scikit-learn.org/stable/modules/preprocessing.html\n",
      "Please also refer to the documentation for alternative solver options:\n",
      "    https://scikit-learn.org/stable/modules/linear_model.html#logistic-regression\n",
      "  n_iter_i = _check_optimize_result(\n"
     ]
    }
   ],
   "source": [
    "# Convert datetime columns to numerical format (e.g., timestamp) or drop them if not needed\n",
    "X_train = X_train.drop(columns=['WHOIS_UPDATED_DATE'], errors='ignore')\n",
    "X_test = X_test.drop(columns=['WHOIS_UPDATED_DATE'], errors='ignore')\n",
    "\n",
    "# Handle missing values by filling them with the mean of the respective columns\n",
    "X_train = X_train.fillna(X_train.mean())\n",
    "X_test = X_test.fillna(X_test.mean())\n",
    "\n",
    "# Entrenar el modelo con los datos de entrenamiento\n",
    "logistic_model.fit(X_train, y_train)\n",
    "\n",
    "print(\"Modelo ajustado con los datos de entrenamiento.\")\n"
   ]
  },
  {
   "cell_type": "markdown",
   "metadata": {},
   "source": [
    "finally, import `confusion_matrix` and `accuracy_score` from `sklearn.metrics` and fit our testing data. Assign the fitted data to `y_pred` and print the confusion matrix as well as the accuracy score"
   ]
  },
  {
   "cell_type": "code",
   "execution_count": 61,
   "metadata": {},
   "outputs": [
    {
     "name": "stdout",
     "output_type": "stream",
     "text": [
      "Matriz de confusión:\n",
      "[[304   2]\n",
      " [ 21  30]]\n",
      "\n",
      "Precisión del modelo:\n",
      "0.94\n"
     ]
    }
   ],
   "source": [
    "from sklearn.metrics import confusion_matrix, accuracy_score\n",
    "\n",
    "# Hacer predicciones en los datos de prueba\n",
    "y_pred = logistic_model.predict(X_test)\n",
    "\n",
    "# Calcular la matriz de confusión y la precisión\n",
    "conf_matrix = confusion_matrix(y_test, y_pred)\n",
    "accuracy = accuracy_score(y_test, y_pred)\n",
    "\n",
    "print(\"Matriz de confusión:\")\n",
    "print(conf_matrix)\n",
    "\n",
    "print(\"\\nPrecisión del modelo:\")\n",
    "print(f\"{accuracy:.2f}\")\n"
   ]
  },
  {
   "cell_type": "markdown",
   "metadata": {},
   "source": [
    "What are your thoughts on the performance of the model? Write your conclusions below."
   ]
  },
  {
   "cell_type": "markdown",
   "metadata": {},
   "source": [
    "### Your conclusions here:\n",
    "    The model is working fine but it have many errors in Type 2, it says that the model predict a non malicious web like a malicious web\n"
   ]
  },
  {
   "cell_type": "markdown",
   "metadata": {},
   "source": [
    "#### Our second algorithm is is DecisionTreeClassifier\n",
    "\n",
    "Though is it not required, we will fit a model using the training data and then test the performance of the model using the testing data. Start by loading `DecisionTreeClassifier` from scikit-learn and then initializing and fitting the model. We'll start off with a model where max_depth=3"
   ]
  },
  {
   "cell_type": "code",
   "execution_count": 62,
   "metadata": {},
   "outputs": [
    {
     "name": "stdout",
     "output_type": "stream",
     "text": [
      "Matriz de confusión (max_depth=3):\n",
      "[[306   0]\n",
      " [ 30  21]]\n",
      "\n",
      "Precisión del modelo (max_depth=3):\n",
      "0.92\n"
     ]
    }
   ],
   "source": [
    "from sklearn.tree import DecisionTreeClassifier\n",
    "from sklearn.metrics import confusion_matrix, accuracy_score\n",
    "\n",
    "# Inicializar el modelo con max_depth=3\n",
    "dt_model_depth3 = DecisionTreeClassifier(max_depth=3, random_state=42)\n",
    "\n",
    "# Ajustar el modelo con los datos de entrenamiento\n",
    "dt_model_depth3.fit(X_train, y_train)\n",
    "\n",
    "# Realizar predicciones en el conjunto de prueba\n",
    "y_pred_depth3 = dt_model_depth3.predict(X_test)\n",
    "\n",
    "# Calcular y mostrar la matriz de confusión y la precisión\n",
    "conf_matrix_depth3 = confusion_matrix(y_test, y_pred_depth3)\n",
    "accuracy_depth3 = accuracy_score(y_test, y_pred_depth3)\n",
    "\n",
    "print(\"Matriz de confusión (max_depth=3):\")\n",
    "print(conf_matrix_depth3)\n",
    "\n",
    "print(\"\\nPrecisión del modelo (max_depth=3):\")\n",
    "print(f\"{accuracy_depth3:.2f}\")\n"
   ]
  },
  {
   "cell_type": "markdown",
   "metadata": {},
   "source": [
    "To test your model, compute the predicted probabilities, decide 0 or 1 using a threshold of 0.5 and print the confusion matrix as well as the accuracy score (on the test set!)"
   ]
  },
  {
   "cell_type": "code",
   "execution_count": 63,
   "metadata": {},
   "outputs": [
    {
     "name": "stdout",
     "output_type": "stream",
     "text": [
      "Matriz de confusión (max_depth=5):\n",
      "[[306   0]\n",
      " [ 30  21]]\n",
      "\n",
      "Precisión del modelo (max_depth=5):\n",
      "0.92\n"
     ]
    }
   ],
   "source": [
    "# Inicializar el modelo con max_depth=5\n",
    "dt_model_depth5 = DecisionTreeClassifier(max_depth=5, random_state=42)\n",
    "\n",
    "# Ajustar el modelo con los datos de entrenamiento\n",
    "dt_model_depth5.fit(X_train, y_train)\n",
    "\n",
    "# Realizar predicciones en el conjunto de prueba\n",
    "y_pred_depth5 = dt_model_depth5.predict(X_test)\n",
    "\n",
    "# Calcular y mostrar la matriz de confusión y la precisión\n",
    "conf_matrix_depth5 = confusion_matrix(y_test, y_pred_depth5)\n",
    "accuracy_depth5 = accuracy_score(y_test, y_pred_depth5)\n",
    "\n",
    "print(\"Matriz de confusión (max_depth=5):\")\n",
    "print(conf_matrix_depth5)\n",
    "\n",
    "print(\"\\nPrecisión del modelo (max_depth=5):\")\n",
    "print(f\"{accuracy_depth5:.2f}\")\n"
   ]
  },
  {
   "cell_type": "markdown",
   "metadata": {},
   "source": [
    "#### We'll create another DecisionTreeClassifier model with max_depth=5. \n",
    "Initialize and fit the model below and print the confusion matrix and the accuracy score."
   ]
  },
  {
   "cell_type": "code",
   "execution_count": 64,
   "metadata": {},
   "outputs": [
    {
     "name": "stdout",
     "output_type": "stream",
     "text": [
      "Matriz de confusión (max_depth=5):\n",
      "[[306   0]\n",
      " [ 30  21]]\n",
      "\n",
      "Precisión del modelo (max_depth=5):\n",
      "0.92\n"
     ]
    }
   ],
   "source": [
    "from sklearn.tree import DecisionTreeClassifier\n",
    "from sklearn.metrics import confusion_matrix, accuracy_score\n",
    "\n",
    "# Inicializar el modelo con max_depth=5\n",
    "dt_model_depth5 = DecisionTreeClassifier(max_depth=5, random_state=42)\n",
    "\n",
    "# Ajustar el modelo con los datos de entrenamiento\n",
    "dt_model_depth5.fit(X_train, y_train)\n",
    "\n",
    "# Realizar predicciones en los datos de prueba\n",
    "y_pred_depth5 = dt_model_depth5.predict(X_test)\n",
    "\n",
    "# Calcular y mostrar la matriz de confusión y el puntaje de precisión\n",
    "conf_matrix_depth5 = confusion_matrix(y_test, y_pred_depth5)\n",
    "accuracy_depth5 = accuracy_score(y_test, y_pred_depth5)\n",
    "\n",
    "print(\"Matriz de confusión (max_depth=5):\")\n",
    "print(conf_matrix_depth5)\n",
    "\n",
    "print(\"\\nPrecisión del modelo (max_depth=5):\")\n",
    "print(f\"{accuracy_depth5:.2f}\")\n"
   ]
  },
  {
   "cell_type": "markdown",
   "metadata": {},
   "source": [
    "Did you see an improvement in the confusion matrix when increasing max_depth to 5? Did you see an improvement in the accuracy score? Write your conclusions below."
   ]
  },
  {
   "cell_type": "markdown",
   "metadata": {},
   "source": [
    "### Your conclusions here:\n"
   ]
  },
  {
   "cell_type": "markdown",
   "metadata": {},
   "source": [
    "<!-- Add your conclusion here -->"
   ]
  },
  {
   "cell_type": "markdown",
   "metadata": {},
   "source": [
    "# Bonus Challenge - Feature Scaling\n",
    "\n",
    "Problem-solving in machine learning is iterative. You can improve your model prediction with various techniques (there is a sweetspot for the time you spend and the improvement you receive though). Now you've completed only one iteration of ML analysis. There are more iterations you can conduct to make improvements. In order to be able to do that, you will need deeper knowledge in statistics and master more data analysis techniques. In this bootcamp, we don't have time to achieve that advanced goal. But you will make constant efforts after the bootcamp to eventually get there.\n",
    "\n",
    "However, now we do want you to learn one of the advanced techniques which is called *feature scaling*. The idea of feature scaling is to standardize/normalize the range of independent variables or features of the data. This can make the outliers more apparent so that you can remove them. This step needs to happen during Challenge 6 after you split the training and test data because you don't want to split the data again which makes it impossible to compare your results with and without feature scaling. For general concepts about feature scaling, click [here](https://en.wikipedia.org/wiki/Feature_scaling). To read deeper, click [here](https://medium.com/greyatom/why-how-and-when-to-scale-your-features-4b30ab09db5e).\n",
    "\n",
    "In the next cell, attempt to improve your model prediction accuracy by means of feature scaling. A library you can utilize is `sklearn.preprocessing.RobustScaler` ([documentation](https://scikit-learn.org/stable/modules/generated/sklearn.preprocessing.RobustScaler.html)). You'll use the `RobustScaler` to fit and transform your `X_train`, then transform `X_test`. You will use logistic regression to fit and predict your transformed data and obtain the accuracy score in the same way. Compare the accuracy score with your normalized data with the previous accuracy data. Is there an improvement?"
   ]
  },
  {
   "cell_type": "code",
   "execution_count": 65,
   "metadata": {},
   "outputs": [
    {
     "name": "stdout",
     "output_type": "stream",
     "text": [
      "Escalado completado: X_train_scaled y X_test_scaled creados.\n"
     ]
    }
   ],
   "source": [
    "from sklearn.preprocessing import RobustScaler\n",
    "from sklearn.linear_model import LogisticRegression\n",
    "from sklearn.metrics import accuracy_score, confusion_matrix\n",
    "\n",
    "# Inicializar el escalador\n",
    "scaler = RobustScaler()\n",
    "\n",
    "# Ajustar el escalador en X_train y transformar tanto X_train como X_test\n",
    "X_train_scaled = scaler.fit_transform(X_train)\n",
    "X_test_scaled = scaler.transform(X_test)\n",
    "\n",
    "print(\"Escalado completado: X_train_scaled y X_test_scaled creados.\")\n"
   ]
  },
  {
   "cell_type": "code",
   "execution_count": 66,
   "metadata": {},
   "outputs": [
    {
     "name": "stdout",
     "output_type": "stream",
     "text": [
      "Matriz de confusión (con escalado):\n",
      "[[305   1]\n",
      " [ 21  30]]\n",
      "\n",
      "Precisión del modelo (con escalado):\n",
      "0.94\n"
     ]
    }
   ],
   "source": [
    "# Inicializar el modelo de regresión logística\n",
    "logistic_model_scaled = LogisticRegression(max_iter=1000, random_state=42)\n",
    "\n",
    "# Entrenar el modelo con los datos escalados\n",
    "logistic_model_scaled.fit(X_train_scaled, y_train)\n",
    "\n",
    "# Realizar predicciones en los datos de prueba escalados\n",
    "y_pred_scaled = logistic_model_scaled.predict(X_test_scaled)\n",
    "\n",
    "# Calcular precisión y matriz de confusión\n",
    "accuracy_scaled = accuracy_score(y_test, y_pred_scaled)\n",
    "conf_matrix_scaled = confusion_matrix(y_test, y_pred_scaled)\n",
    "\n",
    "print(\"Matriz de confusión (con escalado):\")\n",
    "print(conf_matrix_scaled)\n",
    "\n",
    "print(\"\\nPrecisión del modelo (con escalado):\")\n",
    "print(f\"{accuracy_scaled:.2f}\")\n"
   ]
  },
  {
   "cell_type": "markdown",
   "metadata": {},
   "source": [
    "## Comments:"
   ]
  },
  {
   "cell_type": "markdown",
   "metadata": {},
   "source": [
    "Add your comments here:"
   ]
  }
 ],
 "metadata": {
  "kernelspec": {
   "display_name": "base",
   "language": "python",
   "name": "python3"
  },
  "language_info": {
   "codemirror_mode": {
    "name": "ipython",
    "version": 3
   },
   "file_extension": ".py",
   "mimetype": "text/x-python",
   "name": "python",
   "nbconvert_exporter": "python",
   "pygments_lexer": "ipython3",
   "version": "3.12.7"
  },
  "toc": {
   "base_numbering": 1,
   "nav_menu": {},
   "number_sections": true,
   "sideBar": true,
   "skip_h1_title": false,
   "title_cell": "Table of Contents",
   "title_sidebar": "Contents",
   "toc_cell": true,
   "toc_position": {},
   "toc_section_display": true,
   "toc_window_display": false
  },
  "varInspector": {
   "cols": {
    "lenName": 16,
    "lenType": 16,
    "lenVar": 40
   },
   "kernels_config": {
    "python": {
     "delete_cmd_postfix": "",
     "delete_cmd_prefix": "del ",
     "library": "var_list.py",
     "varRefreshCmd": "print(var_dic_list())"
    },
    "r": {
     "delete_cmd_postfix": ") ",
     "delete_cmd_prefix": "rm(",
     "library": "var_list.r",
     "varRefreshCmd": "cat(var_dic_list()) "
    }
   },
   "types_to_exclude": [
    "module",
    "function",
    "builtin_function_or_method",
    "instance",
    "_Feature"
   ],
   "window_display": false
  }
 },
 "nbformat": 4,
 "nbformat_minor": 2
}
